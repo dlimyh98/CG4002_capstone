{
  "cells": [
    {
      "cell_type": "code",
      "execution_count": null,
      "metadata": {
        "id": "HbGtPSYrJORm"
      },
      "outputs": [],
      "source": [
        "import numpy as np\n",
        "import pandas as pd\n",
        "import matplotlib.pyplot as plt\n",
        "import seaborn as sns\n",
        "import numpy as np # linear algebra\n",
        "import pandas as pd # data processing, CSV file I/O (e.g. pd.read_csv)\n",
        "from sklearn.preprocessing import MinMaxScaler\n",
        "from sklearn.preprocessing import LabelEncoder\n",
        "import matplotlib.pyplot as plt\n",
        "import seaborn as sns\n",
        "from keras.models import Sequential\n",
        "from keras.layers import Dense,Dropout\n",
        "import os\n",
        "import warnings\n",
        "from tensorflow import keras\n",
        "warnings.filterwarnings('ignore')\n",
        "from keras.callbacks import ModelCheckpoint\n",
        "from sklearn.utils import shuffle\n",
        "from numpy import mean, std, sqrt, percentile\n",
        "from scipy.stats import skew, kurtosis"
      ]
    },
    {
      "cell_type": "code",
      "execution_count": null,
      "metadata": {
        "colab": {
          "base_uri": "https://localhost:8080/",
          "height": 358
        },
        "id": "dR_o8-MmLY-f",
        "outputId": "c2324b64-2aa3-4ead-c746-b9c54cea4bb9"
      },
      "outputs": [
        {
          "output_type": "display_data",
          "data": {
            "text/plain": [
              "<IPython.core.display.HTML object>"
            ],
            "text/html": [
              "\n",
              "     <input type=\"file\" id=\"files-4c41e551-8a0e-4e12-b968-6e42b24cc0e7\" name=\"files[]\" multiple disabled\n",
              "        style=\"border:none\" />\n",
              "     <output id=\"result-4c41e551-8a0e-4e12-b968-6e42b24cc0e7\">\n",
              "      Upload widget is only available when the cell has been executed in the\n",
              "      current browser session. Please rerun this cell to enable.\n",
              "      </output>\n",
              "      <script>// Copyright 2017 Google LLC\n",
              "//\n",
              "// Licensed under the Apache License, Version 2.0 (the \"License\");\n",
              "// you may not use this file except in compliance with the License.\n",
              "// You may obtain a copy of the License at\n",
              "//\n",
              "//      http://www.apache.org/licenses/LICENSE-2.0\n",
              "//\n",
              "// Unless required by applicable law or agreed to in writing, software\n",
              "// distributed under the License is distributed on an \"AS IS\" BASIS,\n",
              "// WITHOUT WARRANTIES OR CONDITIONS OF ANY KIND, either express or implied.\n",
              "// See the License for the specific language governing permissions and\n",
              "// limitations under the License.\n",
              "\n",
              "/**\n",
              " * @fileoverview Helpers for google.colab Python module.\n",
              " */\n",
              "(function(scope) {\n",
              "function span(text, styleAttributes = {}) {\n",
              "  const element = document.createElement('span');\n",
              "  element.textContent = text;\n",
              "  for (const key of Object.keys(styleAttributes)) {\n",
              "    element.style[key] = styleAttributes[key];\n",
              "  }\n",
              "  return element;\n",
              "}\n",
              "\n",
              "// Max number of bytes which will be uploaded at a time.\n",
              "const MAX_PAYLOAD_SIZE = 100 * 1024;\n",
              "\n",
              "function _uploadFiles(inputId, outputId) {\n",
              "  const steps = uploadFilesStep(inputId, outputId);\n",
              "  const outputElement = document.getElementById(outputId);\n",
              "  // Cache steps on the outputElement to make it available for the next call\n",
              "  // to uploadFilesContinue from Python.\n",
              "  outputElement.steps = steps;\n",
              "\n",
              "  return _uploadFilesContinue(outputId);\n",
              "}\n",
              "\n",
              "// This is roughly an async generator (not supported in the browser yet),\n",
              "// where there are multiple asynchronous steps and the Python side is going\n",
              "// to poll for completion of each step.\n",
              "// This uses a Promise to block the python side on completion of each step,\n",
              "// then passes the result of the previous step as the input to the next step.\n",
              "function _uploadFilesContinue(outputId) {\n",
              "  const outputElement = document.getElementById(outputId);\n",
              "  const steps = outputElement.steps;\n",
              "\n",
              "  const next = steps.next(outputElement.lastPromiseValue);\n",
              "  return Promise.resolve(next.value.promise).then((value) => {\n",
              "    // Cache the last promise value to make it available to the next\n",
              "    // step of the generator.\n",
              "    outputElement.lastPromiseValue = value;\n",
              "    return next.value.response;\n",
              "  });\n",
              "}\n",
              "\n",
              "/**\n",
              " * Generator function which is called between each async step of the upload\n",
              " * process.\n",
              " * @param {string} inputId Element ID of the input file picker element.\n",
              " * @param {string} outputId Element ID of the output display.\n",
              " * @return {!Iterable<!Object>} Iterable of next steps.\n",
              " */\n",
              "function* uploadFilesStep(inputId, outputId) {\n",
              "  const inputElement = document.getElementById(inputId);\n",
              "  inputElement.disabled = false;\n",
              "\n",
              "  const outputElement = document.getElementById(outputId);\n",
              "  outputElement.innerHTML = '';\n",
              "\n",
              "  const pickedPromise = new Promise((resolve) => {\n",
              "    inputElement.addEventListener('change', (e) => {\n",
              "      resolve(e.target.files);\n",
              "    });\n",
              "  });\n",
              "\n",
              "  const cancel = document.createElement('button');\n",
              "  inputElement.parentElement.appendChild(cancel);\n",
              "  cancel.textContent = 'Cancel upload';\n",
              "  const cancelPromise = new Promise((resolve) => {\n",
              "    cancel.onclick = () => {\n",
              "      resolve(null);\n",
              "    };\n",
              "  });\n",
              "\n",
              "  // Wait for the user to pick the files.\n",
              "  const files = yield {\n",
              "    promise: Promise.race([pickedPromise, cancelPromise]),\n",
              "    response: {\n",
              "      action: 'starting',\n",
              "    }\n",
              "  };\n",
              "\n",
              "  cancel.remove();\n",
              "\n",
              "  // Disable the input element since further picks are not allowed.\n",
              "  inputElement.disabled = true;\n",
              "\n",
              "  if (!files) {\n",
              "    return {\n",
              "      response: {\n",
              "        action: 'complete',\n",
              "      }\n",
              "    };\n",
              "  }\n",
              "\n",
              "  for (const file of files) {\n",
              "    const li = document.createElement('li');\n",
              "    li.append(span(file.name, {fontWeight: 'bold'}));\n",
              "    li.append(span(\n",
              "        `(${file.type || 'n/a'}) - ${file.size} bytes, ` +\n",
              "        `last modified: ${\n",
              "            file.lastModifiedDate ? file.lastModifiedDate.toLocaleDateString() :\n",
              "                                    'n/a'} - `));\n",
              "    const percent = span('0% done');\n",
              "    li.appendChild(percent);\n",
              "\n",
              "    outputElement.appendChild(li);\n",
              "\n",
              "    const fileDataPromise = new Promise((resolve) => {\n",
              "      const reader = new FileReader();\n",
              "      reader.onload = (e) => {\n",
              "        resolve(e.target.result);\n",
              "      };\n",
              "      reader.readAsArrayBuffer(file);\n",
              "    });\n",
              "    // Wait for the data to be ready.\n",
              "    let fileData = yield {\n",
              "      promise: fileDataPromise,\n",
              "      response: {\n",
              "        action: 'continue',\n",
              "      }\n",
              "    };\n",
              "\n",
              "    // Use a chunked sending to avoid message size limits. See b/62115660.\n",
              "    let position = 0;\n",
              "    do {\n",
              "      const length = Math.min(fileData.byteLength - position, MAX_PAYLOAD_SIZE);\n",
              "      const chunk = new Uint8Array(fileData, position, length);\n",
              "      position += length;\n",
              "\n",
              "      const base64 = btoa(String.fromCharCode.apply(null, chunk));\n",
              "      yield {\n",
              "        response: {\n",
              "          action: 'append',\n",
              "          file: file.name,\n",
              "          data: base64,\n",
              "        },\n",
              "      };\n",
              "\n",
              "      let percentDone = fileData.byteLength === 0 ?\n",
              "          100 :\n",
              "          Math.round((position / fileData.byteLength) * 100);\n",
              "      percent.textContent = `${percentDone}% done`;\n",
              "\n",
              "    } while (position < fileData.byteLength);\n",
              "  }\n",
              "\n",
              "  // All done.\n",
              "  yield {\n",
              "    response: {\n",
              "      action: 'complete',\n",
              "    }\n",
              "  };\n",
              "}\n",
              "\n",
              "scope.google = scope.google || {};\n",
              "scope.google.colab = scope.google.colab || {};\n",
              "scope.google.colab._files = {\n",
              "  _uploadFiles,\n",
              "  _uploadFilesContinue,\n",
              "};\n",
              "})(self);\n",
              "</script> "
            ]
          },
          "metadata": {}
        },
        {
          "output_type": "stream",
          "name": "stdout",
          "text": [
            "Saving grenade_raw.csv to grenade_raw (1).csv\n",
            "Saving hammer_raw.csv to hammer_raw (1).csv\n",
            "Saving logout_raw.csv to logout_raw (1).csv\n",
            "Saving portal_raw.csv to portal_raw (1).csv\n",
            "Saving punch_raw.csv to punch_raw (1).csv\n",
            "Saving reload_raw.csv to reload_raw (1).csv\n",
            "Saving shield_raw.csv to shield_raw (1).csv\n",
            "Saving spear_raw.csv to spear_raw (1).csv\n",
            "Saving web_raw.csv to web_raw (1).csv\n"
          ]
        }
      ],
      "source": [
        "from google.colab import files\n",
        "uploaded = files.upload()"
      ]
    },
    {
      "cell_type": "code",
      "execution_count": null,
      "metadata": {
        "colab": {
          "base_uri": "https://localhost:8080/"
        },
        "id": "_9sTO3Q6vbDl",
        "outputId": "18831460-8cec-4be5-a943-ca52d77d1d3e"
      },
      "outputs": [
        {
          "output_type": "stream",
          "name": "stdout",
          "text": [
            " best_model_fold_1.h5   grenade_raw.csv       portal_raw.csv\t   'shield_raw (1).csv'\n",
            " best_model_fold_2.h5  'hammer_raw (1).csv'  'punch_raw (1).csv'    shield_raw.csv\n",
            " best_model_fold_3.h5   hammer_raw.csv\t      punch_raw.csv\t   'spear_raw (1).csv'\n",
            " best_model_fold_4.h5  'logout_raw (1).csv'  'reload_raw (1).csv'   spear_raw.csv\n",
            " best_model_fold_5.h5   logout_raw.csv\t      reload_raw.csv\t   'web_raw (1).csv'\n",
            "'grenade_raw (1).csv'  'portal_raw (1).csv'   sample_data\t    web_raw.csv\n"
          ]
        }
      ],
      "source": [
        "from google.colab import files\n",
        "!ls"
      ]
    },
    {
      "cell_type": "markdown",
      "metadata": {
        "id": "hNlLrgY9vy25"
      },
      "source": [
        "## Print the Shape of 20Hz Sample Rate Raw Data"
      ]
    },
    {
      "cell_type": "code",
      "execution_count": null,
      "metadata": {
        "colab": {
          "base_uri": "https://localhost:8080/"
        },
        "id": "onTnU6ULOAGl",
        "outputId": "8642a784-0cb4-4166-986a-8d322124b821"
      },
      "outputs": [
        {
          "output_type": "stream",
          "name": "stdout",
          "text": [
            "Shape of fist raw is: (33750, 6)\n",
            "Shape of grenade raw is: (33150, 6)\n",
            "Shape of hammer raw is: (32200, 6)\n",
            "Shape of logout raw is: (31650, 6)\n",
            "Shape of portal raw is: (32150, 6)\n",
            "Shape of reload raw is: (31500, 6)\n",
            "Shape of shield raw is: (32550, 6)\n",
            "Shape of spear raw is: (31200, 6)\n",
            "Shape of spiderweb raw is: (31350, 6)\n"
          ]
        }
      ],
      "source": [
        "fist_raw = pd.read_csv('punch_raw.csv')\n",
        "grenade_raw = pd.read_csv('grenade_raw.csv')\n",
        "hammer_raw = pd.read_csv('hammer_raw.csv')\n",
        "logout_raw = pd.read_csv('logout_raw.csv')\n",
        "portal_raw = pd.read_csv('portal_raw.csv')\n",
        "reload_raw = pd.read_csv('reload_raw.csv')\n",
        "shield_raw = pd.read_csv('shield_raw.csv')\n",
        "spear_raw = pd.read_csv('spear_raw.csv')\n",
        "spiderweb_raw = pd.read_csv('web_raw.csv')\n",
        "\n",
        "print(f'Shape of fist raw is: {fist_raw.shape}')\n",
        "print(f'Shape of grenade raw is: {grenade_raw.shape}')\n",
        "print(f'Shape of hammer raw is: {hammer_raw.shape}')\n",
        "print(f'Shape of logout raw is: {logout_raw.shape}')\n",
        "print(f'Shape of portal raw is: {portal_raw.shape}')\n",
        "print(f'Shape of reload raw is: {reload_raw.shape}')\n",
        "print(f'Shape of shield raw is: {shield_raw.shape}')\n",
        "print(f'Shape of spear raw is: {spear_raw.shape}')\n",
        "print(f'Shape of spiderweb raw is: {spiderweb_raw.shape}')"
      ]
    },
    {
      "cell_type": "code",
      "source": [
        "all_raw = np.concatenate((\n",
        "    fist_raw,\n",
        "    grenade_raw,\n",
        "    hammer_raw,\n",
        "    logout_raw,\n",
        "    portal_raw,\n",
        "    reload_raw,\n",
        "    shield_raw,\n",
        "    spear_raw,\n",
        "    spiderweb_raw,\n",
        "), axis=0)"
      ],
      "metadata": {
        "id": "11K1BjdP7mXL"
      },
      "execution_count": null,
      "outputs": []
    },
    {
      "cell_type": "code",
      "source": [
        "import matplotlib.pyplot as plt\n",
        "\n",
        "df_subset = reload_raw.iloc[:, :]\n",
        "\n",
        "# Plotting gyro data\n",
        "df_subset[['GyroX', 'GyroY', 'GyroZ']].plot(figsize=(12, 6), title='Gyro Data')\n",
        "plt.ylabel(\"Angular velocity (degrees/s)\")\n",
        "plt.xlabel(\"Samples\")\n",
        "plt.grid(True)\n",
        "plt.tight_layout()\n",
        "plt.show()\n",
        "\n",
        "# Plotting accel data\n",
        "df_subset[['AccX', 'AccY', 'AccZ']].plot(figsize=(12, 6), title='Accelerometer Data')\n",
        "plt.ylabel(\"Acceleration (g)\")\n",
        "plt.xlabel(\"Samples\")\n",
        "plt.grid(True)\n",
        "plt.tight_layout()\n",
        "plt.show()\n"
      ],
      "metadata": {
        "colab": {
          "base_uri": "https://localhost:8080/",
          "height": 1000
        },
        "id": "U51-YCAPqMh0",
        "outputId": "791debe9-26d7-493b-d4eb-06ebf7e64877"
      },
      "execution_count": null,
      "outputs": [
        {
          "output_type": "display_data",
          "data": {
            "text/plain": [
              "<Figure size 1200x600 with 1 Axes>"
            ],
            "image/png": "[encoded data removed]"
          },
          "metadata": {}
        },
        {
          "output_type": "display_data",
          "data": {
            "text/plain": [
              "<Figure size 1200x600 with 1 Axes>"
            ],
            "image/png": "[encoded data removed]"
          },
          "metadata": {}
        }
      ]
    },
    {
      "cell_type": "markdown",
      "source": [
        "## Normalization"
      ],
      "metadata": {
        "id": "2oIbimfS3WfU"
      }
    },
    {
      "cell_type": "code",
      "source": [
        "# mean std normalisation\n",
        "def get_mean_std(X):\n",
        "    mean = []\n",
        "    std = []\n",
        "    for i in range(X.shape[1]):\n",
        "        col_mean = np.mean(X[:, i])\n",
        "        col_std = np.std(X[:, i])\n",
        "        mean.append(col_mean)\n",
        "        std.append(col_std)\n",
        "    return mean, std\n",
        "\n",
        "mean, std = get_mean_std(all_raw)\n",
        "print(mean)\n",
        "print(std)"
      ],
      "metadata": {
        "id": "DdDYBuBldzP3",
        "colab": {
          "base_uri": "https://localhost:8080/"
        },
        "outputId": "a7e2d828-7b52-4c92-a18c-abde40ab10dd"
      },
      "execution_count": null,
      "outputs": [
        {
          "output_type": "stream",
          "name": "stdout",
          "text": [
            "[-2.0964732297063904, 0.04991018998272884, 0.6419723661485319, -84.94949568221071, -4.250818652849741, 51.14255958549223]\n",
            "[74.90506388888184, 74.54468775642907, 74.83793561578511, 2588.828507875095, 2702.4807916649443, 3360.1296371988565]\n"
          ]
        }
      ]
    },
    {
      "cell_type": "code",
      "source": [
        "def normalize(X, mean, std):\n",
        "    X_norm = np.zeros_like(X, dtype=float)\n",
        "    for i in range(X.shape[1]):\n",
        "        X_norm[:, i] = (X[:, i] - mean[i]) / std[i]\n",
        "    return X_norm\n",
        "\n",
        "fist_raw_norm = normalize(fist_raw.to_numpy(), mean, std)\n",
        "grenade_raw_norm = normalize(grenade_raw.to_numpy(), mean, std)\n",
        "hammer_raw_norm = normalize(hammer_raw.to_numpy(), mean, std)\n",
        "logout_raw_norm = normalize(logout_raw.to_numpy(), mean, std)\n",
        "portal_raw_norm = normalize(portal_raw.to_numpy(), mean, std)\n",
        "reload_raw_norm = normalize(reload_raw.to_numpy(), mean, std)\n",
        "shield_raw_norm = normalize(shield_raw.to_numpy(), mean, std)\n",
        "spear_raw_norm = normalize(spear_raw.to_numpy(), mean, std)\n",
        "spiderweb_raw_norm = normalize(spiderweb_raw.to_numpy(), mean, std)"
      ],
      "metadata": {
        "id": "E01F1LL47ES1"
      },
      "execution_count": null,
      "outputs": []
    },
    {
      "cell_type": "markdown",
      "source": [
        "## Create Window"
      ],
      "metadata": {
        "id": "hxCLPa9QxtZb"
      }
    },
    {
      "cell_type": "code",
      "source": [
        "# Function to create windows for input\n",
        "def create_window(raw, window_size=50, overlap=50):\n",
        "    num_windows = (len(raw) - window_size) // overlap + 1\n",
        "    window = np.zeros((num_windows, window_size, raw.shape[1]))\n",
        "\n",
        "    for i in range(num_windows):\n",
        "        start = i * overlap\n",
        "        end = start + window_size\n",
        "        window[i] = raw[start:end, :]\n",
        "\n",
        "    return window\n"
      ],
      "metadata": {
        "id": "p0szZLBi1RWi"
      },
      "execution_count": null,
      "outputs": []
    },
    {
      "cell_type": "code",
      "source": [
        "# Create inputs and labels for each class\n",
        "fist_input = create_window(fist_raw_norm)\n",
        "grenade_input = create_window(grenade_raw_norm)\n",
        "hammer_input = create_window(hammer_raw_norm)\n",
        "logout_input = create_window(logout_raw_norm)\n",
        "portal_input = create_window(portal_raw_norm)\n",
        "reload_input = create_window(reload_raw_norm)\n",
        "shield_input = create_window(shield_raw_norm)\n",
        "spear_input = create_window(spear_raw_norm)\n",
        "spiderweb_input = create_window(spiderweb_raw_norm)"
      ],
      "metadata": {
        "id": "lTucr2C61rM3"
      },
      "execution_count": null,
      "outputs": []
    },
    {
      "cell_type": "markdown",
      "metadata": {
        "id": "ooj0nxR-C2aj"
      },
      "source": [
        "## Feature Extraction for each window"
      ]
    },
    {
      "cell_type": "code",
      "source": [
        "import numpy as np\n",
        "from scipy.stats import skew, kurtosis\n",
        "from scipy.signal import find_peaks\n",
        "\n",
        "def extract_features(window, label):\n",
        "    features = []\n",
        "\n",
        "    for col in window.columns:\n",
        "        # Time domain features\n",
        "        tmean = np.mean(window[col])\n",
        "        tstd = np.std(window[col])\n",
        "        t25percentile = np.percentile(window[col], 25)\n",
        "        t50percentile = np.percentile(window[col], 50)  # median\n",
        "        t75percentile = np.percentile(window[col], 75)\n",
        "        tIQR = t75percentile - t25percentile  # interquartile range\n",
        "        zero_crossings = np.where(np.diff(np.sign(window[col])))[0].size  # zero-crossings\n",
        "        tMAD = np.mean(np.abs(window[col] - tmean))\n",
        "\n",
        "        features.extend([\n",
        "            # tmean,\n",
        "            # tstd,\n",
        "            t50percentile,\n",
        "            tIQR,\n",
        "            zero_crossings,\n",
        "            tMAD,\n",
        "            skew(window[col]),\n",
        "            kurtosis(window[col])\n",
        "        ])\n",
        "\n",
        "        # Frequency domain features\n",
        "        freq_domain = np.fft.rfft(window[col])\n",
        "        freq_magnitude = np.abs(freq_domain)\n",
        "        freq_axis = np.fft.rfftfreq(len(window[col]))\n",
        "\n",
        "        fmean = np.mean(freq_magnitude)\n",
        "        fmax = np.max(freq_magnitude)\n",
        "        dominant_freq = freq_axis[np.argmax(freq_magnitude)]\n",
        "        energy = np.sum(np.square(freq_magnitude)) / 10000  # divided by 100^2\n",
        "        fsum = np.sum(freq_magnitude)\n",
        "        entropy = -np.sum((freq_magnitude / fsum) * np.log2(freq_magnitude / fsum + np.finfo(float).eps))  # spectral entropy\n",
        "\n",
        "\n",
        "        features.extend([\n",
        "            fmean,\n",
        "            fmax,\n",
        "            dominant_freq,\n",
        "            energy,\n",
        "            entropy\n",
        "        ])\n",
        "\n",
        "    features.append(label)\n",
        "    return features\n"
      ],
      "metadata": {
        "id": "ccCZnG6Q1fdS"
      },
      "execution_count": null,
      "outputs": []
    },
    {
      "cell_type": "code",
      "source": [
        "feature = []\n",
        "\n",
        "for i in range(fist_input.shape[0]):\n",
        "    window = pd.DataFrame(fist_input[i])\n",
        "    features = extract_features(window, \"fist\")\n",
        "    feature.append(features)\n",
        "for i in range(grenade_input.shape[0]):\n",
        "    window = pd.DataFrame(grenade_input[i])\n",
        "    features = extract_features(window, \"grenade\")\n",
        "    feature.append(features)\n",
        "for i in range(hammer_input.shape[0]):\n",
        "    window = pd.DataFrame(hammer_input[i])\n",
        "    features = extract_features(window, \"hammer\")\n",
        "    feature.append(features)\n",
        "for i in range(logout_input.shape[0]):\n",
        "    window = pd.DataFrame(logout_input[i])\n",
        "    features = extract_features(window, \"logout\")\n",
        "    feature.append(features)\n",
        "for i in range(portal_input.shape[0]):\n",
        "    window = pd.DataFrame(portal_input[i])\n",
        "    features = extract_features(window, \"portal\")\n",
        "    feature.append(features)\n",
        "for i in range(reload_input.shape[0]):\n",
        "    window = pd.DataFrame(reload_input[i])\n",
        "    features = extract_features(window, \"reload\")\n",
        "    feature.append(features)\n",
        "for i in range(shield_input.shape[0]):\n",
        "    window = pd.DataFrame(shield_input[i])\n",
        "    features = extract_features(window, \"shield\")\n",
        "    feature.append(features)\n",
        "for i in range(spear_input.shape[0]):\n",
        "    window = pd.DataFrame(spear_input[i])\n",
        "    features = extract_features(window, \"spear\")\n",
        "    feature.append(features)\n",
        "for i in range(spiderweb_input.shape[0]):\n",
        "    window = pd.DataFrame(spiderweb_input[i])\n",
        "    features = extract_features(window, \"spiderweb\")\n",
        "    feature.append(features)\n",
        "# for i in range(idle_norm.shape[0]):\n",
        "#     window = pd.DataFrame(idle_norm[i])\n",
        "#     features = extract_features(window, \"idle\")\n",
        "#     feature.append(features)\n",
        "columns = [\n",
        "    f'{col}_{stat}' for col in window.columns\n",
        "    for stat in [\n",
        "        # 'tmean', 'tstd',\n",
        "        't50percentile',\n",
        "        'tIQR', 'zero_crossings', 'tMAD', 'tskew', 'tkurtosis',\n",
        "        'fmean', 'fmax', 'dominant_freq',\n",
        "        'fenergy', 'fentropy'\n",
        "    ]\n",
        "]\n",
        "columns.append('label')\n",
        "feature_df = pd.DataFrame(feature, columns=columns)  # make sure `features` is the list of extracted features.\n",
        "\n",
        "\n",
        "print(feature_df)"
      ],
      "metadata": {
        "colab": {
          "base_uri": "https://localhost:8080/"
        },
        "id": "M6FKmsFlwMXh",
        "outputId": "3544b912-cdfd-4585-9d0b-e1712fe6e511"
      },
      "execution_count": null,
      "outputs": [
        {
          "output_type": "stream",
          "name": "stdout",
          "text": [
            "      0_t50percentile    0_tIQR  0_zero_crossings    0_tMAD   0_tskew  \\\n",
            "0           -0.612823  0.604098                 8  0.556181  1.092863   \n",
            "1           -0.586122  1.248247                10  0.790569  0.634830   \n",
            "2           -0.319118  1.488551                13  0.766325  0.659544   \n",
            "3           -0.519371  0.647486                 8  0.541272  0.718597   \n",
            "4           -0.552747  0.817702                12  0.584099  0.813597   \n",
            "...               ...       ...               ...       ...       ...   \n",
            "5785        -0.412569  2.439755                14  1.126375  0.196704   \n",
            "5786        -0.225666  2.429742                25  1.074160  0.179355   \n",
            "5787         0.408470  2.489818                16  1.080044 -0.127640   \n",
            "5788         0.134790  2.352978                12  1.151591 -0.027460   \n",
            "5789         0.528622  1.525264                13  0.825578 -0.363558   \n",
            "\n",
            "      0_tkurtosis   0_fmean     0_fmax  0_dominant_freq  0_fenergy  ...  \\\n",
            "0        1.330478  5.330352  23.071555             0.00   0.127623  ...   \n",
            "1       -0.846245  5.675018  17.086526             0.04   0.112178  ...   \n",
            "2       -0.911950  5.047482  17.595719             0.02   0.103871  ...   \n",
            "3        0.313560  4.545171  16.209536             0.00   0.086501  ...   \n",
            "4        0.186705  5.174540  19.987652             0.00   0.109573  ...   \n",
            "...           ...       ...        ...              ...        ...  ...   \n",
            "5785    -1.643091  7.369233  19.062417             0.04   0.185997  ...   \n",
            "5786    -1.534543  7.591882  15.988242             0.06   0.181863  ...   \n",
            "5787    -1.558760  6.275948  24.769450             0.04   0.175323  ...   \n",
            "5788    -1.697056  6.824893  22.732762             0.04   0.187432  ...   \n",
            "5789    -0.910689  6.512187  20.423501             0.00   0.164421  ...   \n",
            "\n",
            "      5_zero_crossings    5_tMAD   5_tskew  5_tkurtosis   5_fmean     5_fmax  \\\n",
            "0                    8  0.342279 -0.600953     1.575433  2.635627   9.513855   \n",
            "1                    8  0.510498 -0.142206     0.354413  3.538158  12.047094   \n",
            "2                    9  0.424337  0.165358     0.531403  3.567874   8.827402   \n",
            "3                   10  0.354188 -0.028148     3.070029  3.254070   8.950029   \n",
            "4                    8  0.400103  0.340491     2.341658  3.639819   7.896177   \n",
            "...                ...       ...       ...          ...       ...        ...   \n",
            "5785                11  0.402703  1.324671     3.570696  3.898227  10.928112   \n",
            "5786                10  0.540610 -0.507695    -0.199661  3.414492  18.359042   \n",
            "5787                16  0.440043  0.383741     1.280312  3.781466  10.332301   \n",
            "5788                12  0.381909 -1.622747     6.376119  3.786406  13.534702   \n",
            "5789                12  0.532981  0.427038     0.906934  4.384203  14.878613   \n",
            "\n",
            "      5_dominant_freq  5_fenergy  5_fentropy      label  \n",
            "0                0.02   0.031276    4.220978       fist  \n",
            "1                0.02   0.059365    4.183134       fist  \n",
            "2                0.04   0.046238    4.420189       fist  \n",
            "3                0.02   0.038876    4.414750       fist  \n",
            "4                0.02   0.042060    4.547609       fist  \n",
            "...               ...        ...         ...        ...  \n",
            "5785             0.00   0.052450    4.505176  spiderweb  \n",
            "5786             0.02   0.065021    4.149067  spiderweb  \n",
            "5787             0.00   0.052841    4.422255  spiderweb  \n",
            "5788             0.04   0.061509    4.289251  spiderweb  \n",
            "5789             0.02   0.070838    4.445596  spiderweb  \n",
            "\n",
            "[5790 rows x 67 columns]\n"
          ]
        }
      ]
    },
    {
      "cell_type": "code",
      "execution_count": null,
      "metadata": {
        "colab": {
          "base_uri": "https://localhost:8080/",
          "height": 506
        },
        "id": "NVxapTWmPkLq",
        "outputId": "ed1f493c-cd69-4bea-8730-2c93f6c7a8f5"
      },
      "outputs": [
        {
          "output_type": "execute_result",
          "data": {
            "text/plain": [
              "<Axes: >"
            ]
          },
          "metadata": {},
          "execution_count": 13
        },
        {
          "output_type": "display_data",
          "data": {
            "text/plain": [
              "<Figure size 640x480 with 1 Axes>"
            ],
            "image/png": "[encoded data removed]"
          },
          "metadata": {}
        }
      ],
      "source": [
        "shuffled_df = feature_df.sample(frac = 1)\n",
        "shuffled_df['label'].value_counts().sort_values().plot(kind = 'bar', color = 'pink')"
      ]
    },
    {
      "cell_type": "code",
      "source": [
        "from sklearn.model_selection import train_test_split\n",
        "\n",
        "x_data, y_data = shuffled_df.iloc[:, :-1], shuffled_df.iloc[:, -1:]\n",
        "x_data = x_data.astype(\"float32\")\n",
        "train_x, test_x, train_y, test_y = train_test_split(x_data, y_data, random_state=0, train_size = .80) # put 20% of data into test\n",
        "\n",
        "print(\"train_x size:\", train_x.shape, \"train_y size:\", train_y.shape)\n",
        "print(\"test_x size:\", test_x.shape, \"test_y size:\", test_y.shape)"
      ],
      "metadata": {
        "colab": {
          "base_uri": "https://localhost:8080/"
        },
        "id": "PnBzSN5OHPNI",
        "outputId": "9ca7512e-b4c0-4195-c777-7eb4c1c1e943"
      },
      "execution_count": null,
      "outputs": [
        {
          "output_type": "stream",
          "name": "stdout",
          "text": [
            "train_x size: (4632, 66) train_y size: (4632, 1)\n",
            "test_x size: (1158, 66) test_y size: (1158, 1)\n"
          ]
        }
      ]
    },
    {
      "cell_type": "code",
      "source": [
        "le = LabelEncoder()\n",
        "train_y = le.fit_transform(train_y)\n",
        "test_y = le.fit_transform(test_y)\n",
        "le_name_mapping = dict(zip(le.classes_, le.fit_transform(le.classes_)))\n",
        "print(le_name_mapping)"
      ],
      "metadata": {
        "colab": {
          "base_uri": "https://localhost:8080/"
        },
        "id": "q-sz3BCbInJG",
        "outputId": "42fe2705-34a7-493b-e42b-c0cbce73a8d6"
      },
      "execution_count": null,
      "outputs": [
        {
          "output_type": "stream",
          "name": "stdout",
          "text": [
            "{'fist': 0, 'grenade': 1, 'hammer': 2, 'logout': 3, 'portal': 4, 'reload': 5, 'shield': 6, 'spear': 7, 'spiderweb': 8}\n"
          ]
        }
      ]
    },
    {
      "cell_type": "markdown",
      "metadata": {
        "id": "ktddr_VsX-Ep"
      },
      "source": [
        "## Model Construction"
      ]
    },
    {
      "cell_type": "code",
      "source": [
        "import numpy as np\n",
        "from sklearn.model_selection import StratifiedKFold\n",
        "import tensorflow as tf\n",
        "from keras.models import Sequential\n",
        "from keras.layers import Dense, Dropout\n",
        "from keras.callbacks import ModelCheckpoint\n",
        "from keras import regularizers\n",
        "\n",
        "# Set random seed\n",
        "tf.random.set_seed(42)\n",
        "\n",
        "# Function to create and compile the model\n",
        "def build_model():\n",
        "    model = Sequential()\n",
        "    # Add L2 regularization to each Dense layer\n",
        "    model.add(Dense(48, input_dim=66, activation='relu',\n",
        "                    kernel_regularizer=regularizers.l2(0.01)))\n",
        "    # model.add(Dropout(0.1))  # Add dropout with a 50% rate of dropping\n",
        "    model.add(Dense(24, activation='relu',\n",
        "                    kernel_regularizer=regularizers.l2(0.01)))\n",
        "    # model.add(Dropout(0.1))  # Add another dropout layer\n",
        "    model.add(Dense(9, activation='sigmoid'))\n",
        "\n",
        "    model.compile(loss=tf.keras.losses.SparseCategoricalCrossentropy(),\n",
        "                  optimizer=tf.keras.optimizers.Adam(lr=0.001),\n",
        "                  metrics=[\"accuracy\"])\n",
        "    return model\n",
        "\n",
        "\n",
        "n_folds = 5\n",
        "skf = StratifiedKFold(n_splits=n_folds, shuffle=True, random_state=42)\n",
        "\n",
        "val_scores = []\n",
        "\n",
        "for train_idx, val_idx in skf.split(train_x, train_y):\n",
        "    model = build_model()\n",
        "    checkpoint = ModelCheckpoint(\"best_model_fold_{}.h5\".format(len(val_scores) + 1), monitor='val_accuracy', verbose=1, save_best_only=True, mode='max')\n",
        "\n",
        "    train_x_fold = train_x.iloc[train_idx]\n",
        "    train_y_fold = train_y[train_idx]\n",
        "    val_x_fold = train_x.iloc[val_idx]\n",
        "    val_y_fold = train_y[val_idx]\n",
        "\n",
        "    model.fit(train_x_fold, train_y_fold, epochs=30, validation_data=(val_x_fold, val_y_fold), callbacks=[checkpoint])\n",
        "\n",
        "    loss, accuracy = model.evaluate(val_x_fold, val_y_fold, verbose=0)\n",
        "    val_scores.append(accuracy)\n",
        "    print(f\"Fold {len(val_scores)} - Model loss: {loss}\")\n",
        "    print(f\"Fold {len(val_scores)} - Model accuracy: {100*accuracy:.2f}%\")\n",
        "\n",
        "print(f\"Average accuracy from {n_folds}-fold cross-validation: {100*np.mean(val_scores):.2f}% +/- {100*np.std(val_scores):.2f}%\")\n",
        "\n",
        "# Evaluate the model\n",
        "loss, accuracy = model.evaluate(test_x, test_y, verbose=0)\n",
        "print(f\"Model loss on the test set: {loss}\")\n",
        "print(f\"Model accuracy on the test set: {100*accuracy:.2f}%\")\n"
      ],
      "metadata": {
        "colab": {
          "base_uri": "https://localhost:8080/"
        },
        "id": "ALT6VEkYDVES",
        "outputId": "b5810477-4d64-4a05-f57d-2839c49129a3"
      },
      "execution_count": null,
      "outputs": [
        {
          "output_type": "stream",
          "name": "stderr",
          "text": [
            "WARNING:absl:`lr` is deprecated in Keras optimizer, please use `learning_rate` or use the legacy optimizer, e.g.,tf.keras.optimizers.legacy.Adam.\n"
          ]
        },
        {
          "output_type": "stream",
          "name": "stdout",
          "text": [
            "Epoch 1/30\n",
            "110/116 [===========================>..] - ETA: 0s - loss: 2.9785 - accuracy: 0.3440\n",
            "Epoch 1: val_accuracy improved from -inf to 0.58684, saving model to best_model_fold_1.h5\n",
            "116/116 [==============================] - 4s 13ms/step - loss: 2.9200 - accuracy: 0.3533 - val_loss: 1.6907 - val_accuracy: 0.5868\n",
            "Epoch 2/30\n",
            "103/116 [=========================>....] - ETA: 0s - loss: 1.5266 - accuracy: 0.6611\n",
            "Epoch 2: val_accuracy improved from 0.58684 to 0.72816, saving model to best_model_fold_1.h5\n",
            "116/116 [==============================] - 0s 4ms/step - loss: 1.5071 - accuracy: 0.6650 - val_loss: 1.2822 - val_accuracy: 0.7282\n",
            "Epoch 3/30\n",
            "105/116 [==========================>...] - ETA: 0s - loss: 1.2260 - accuracy: 0.7494\n",
            "Epoch 3: val_accuracy improved from 0.72816 to 0.80583, saving model to best_model_fold_1.h5\n",
            "116/116 [==============================] - 0s 3ms/step - loss: 1.2177 - accuracy: 0.7506 - val_loss: 1.0716 - val_accuracy: 0.8058\n",
            "Epoch 4/30\n",
            "101/116 [=========================>....] - ETA: 0s - loss: 1.0756 - accuracy: 0.7912\n",
            "Epoch 4: val_accuracy improved from 0.80583 to 0.80798, saving model to best_model_fold_1.h5\n",
            "116/116 [==============================] - 0s 3ms/step - loss: 1.0626 - accuracy: 0.7954 - val_loss: 0.9896 - val_accuracy: 0.8080\n",
            "Epoch 5/30\n",
            " 98/116 [========================>.....] - ETA: 0s - loss: 0.9725 - accuracy: 0.8243\n",
            "Epoch 5: val_accuracy improved from 0.80798 to 0.84682, saving model to best_model_fold_1.h5\n",
            "116/116 [==============================] - 0s 3ms/step - loss: 0.9712 - accuracy: 0.8213 - val_loss: 0.8950 - val_accuracy: 0.8468\n",
            "Epoch 6/30\n",
            "107/116 [==========================>...] - ETA: 0s - loss: 0.9127 - accuracy: 0.8344\n",
            "Epoch 6: val_accuracy improved from 0.84682 to 0.84790, saving model to best_model_fold_1.h5\n",
            "116/116 [==============================] - 0s 3ms/step - loss: 0.9119 - accuracy: 0.8356 - val_loss: 0.8718 - val_accuracy: 0.8479\n",
            "Epoch 7/30\n",
            "113/116 [============================>.] - ETA: 0s - loss: 0.8632 - accuracy: 0.8438\n",
            "Epoch 7: val_accuracy improved from 0.84790 to 0.86084, saving model to best_model_fold_1.h5\n",
            "116/116 [==============================] - 0s 4ms/step - loss: 0.8633 - accuracy: 0.8435 - val_loss: 0.8105 - val_accuracy: 0.8608\n",
            "Epoch 8/30\n",
            "100/116 [========================>.....] - ETA: 0s - loss: 0.8144 - accuracy: 0.8578\n",
            "Epoch 8: val_accuracy did not improve from 0.86084\n",
            "116/116 [==============================] - 0s 3ms/step - loss: 0.8147 - accuracy: 0.8588 - val_loss: 0.8004 - val_accuracy: 0.8598\n",
            "Epoch 9/30\n",
            "111/116 [===========================>..] - ETA: 0s - loss: 0.7910 - accuracy: 0.8536\n",
            "Epoch 9: val_accuracy improved from 0.86084 to 0.86408, saving model to best_model_fold_1.h5\n",
            "116/116 [==============================] - 0s 4ms/step - loss: 0.7938 - accuracy: 0.8526 - val_loss: 0.7742 - val_accuracy: 0.8641\n",
            "Epoch 10/30\n",
            "105/116 [==========================>...] - ETA: 0s - loss: 0.7634 - accuracy: 0.8696\n",
            "Epoch 10: val_accuracy improved from 0.86408 to 0.87594, saving model to best_model_fold_1.h5\n",
            "116/116 [==============================] - 0s 4ms/step - loss: 0.7616 - accuracy: 0.8702 - val_loss: 0.7368 - val_accuracy: 0.8759\n",
            "Epoch 11/30\n",
            "114/116 [============================>.] - ETA: 0s - loss: 0.7263 - accuracy: 0.8835\n",
            "Epoch 11: val_accuracy improved from 0.87594 to 0.88457, saving model to best_model_fold_1.h5\n",
            "116/116 [==============================] - 0s 4ms/step - loss: 0.7251 - accuracy: 0.8842 - val_loss: 0.7048 - val_accuracy: 0.8846\n",
            "Epoch 12/30\n",
            " 98/116 [========================>.....] - ETA: 0s - loss: 0.7134 - accuracy: 0.8820\n",
            "Epoch 12: val_accuracy did not improve from 0.88457\n",
            "116/116 [==============================] - 0s 3ms/step - loss: 0.7121 - accuracy: 0.8821 - val_loss: 0.7607 - val_accuracy: 0.8511\n",
            "Epoch 13/30\n",
            "110/116 [===========================>..] - ETA: 0s - loss: 0.6965 - accuracy: 0.8778\n",
            "Epoch 13: val_accuracy improved from 0.88457 to 0.89213, saving model to best_model_fold_1.h5\n",
            "116/116 [==============================] - 0s 4ms/step - loss: 0.6980 - accuracy: 0.8775 - val_loss: 0.6823 - val_accuracy: 0.8921\n",
            "Epoch 14/30\n",
            "105/116 [==========================>...] - ETA: 0s - loss: 0.6794 - accuracy: 0.8839\n",
            "Epoch 14: val_accuracy improved from 0.89213 to 0.89644, saving model to best_model_fold_1.h5\n",
            "116/116 [==============================] - 0s 4ms/step - loss: 0.6728 - accuracy: 0.8866 - val_loss: 0.6585 - val_accuracy: 0.8964\n",
            "Epoch 15/30\n",
            "112/116 [===========================>..] - ETA: 0s - loss: 0.6519 - accuracy: 0.8895\n",
            "Epoch 15: val_accuracy improved from 0.89644 to 0.89860, saving model to best_model_fold_1.h5\n",
            "116/116 [==============================] - 0s 4ms/step - loss: 0.6525 - accuracy: 0.8893 - val_loss: 0.6392 - val_accuracy: 0.8986\n",
            "Epoch 16/30\n",
            "100/116 [========================>.....] - ETA: 0s - loss: 0.6392 - accuracy: 0.8900\n",
            "Epoch 16: val_accuracy did not improve from 0.89860\n",
            "116/116 [==============================] - 0s 4ms/step - loss: 0.6453 - accuracy: 0.8896 - val_loss: 0.6234 - val_accuracy: 0.8932\n",
            "Epoch 17/30\n",
            " 96/116 [=======================>......] - ETA: 0s - loss: 0.6259 - accuracy: 0.8965\n",
            "Epoch 17: val_accuracy did not improve from 0.89860\n",
            "116/116 [==============================] - 0s 3ms/step - loss: 0.6325 - accuracy: 0.8945 - val_loss: 0.6198 - val_accuracy: 0.8975\n",
            "Epoch 18/30\n",
            "112/116 [===========================>..] - ETA: 0s - loss: 0.6195 - accuracy: 0.8951\n",
            "Epoch 18: val_accuracy did not improve from 0.89860\n",
            "116/116 [==============================] - 1s 4ms/step - loss: 0.6169 - accuracy: 0.8961 - val_loss: 0.6134 - val_accuracy: 0.8986\n",
            "Epoch 19/30\n",
            "107/116 [==========================>...] - ETA: 0s - loss: 0.5950 - accuracy: 0.9045\n",
            "Epoch 19: val_accuracy did not improve from 0.89860\n",
            "116/116 [==============================] - 0s 4ms/step - loss: 0.5928 - accuracy: 0.9050 - val_loss: 0.6052 - val_accuracy: 0.8954\n",
            "Epoch 20/30\n",
            "113/116 [============================>.] - ETA: 0s - loss: 0.5994 - accuracy: 0.9046\n",
            "Epoch 20: val_accuracy did not improve from 0.89860\n",
            "116/116 [==============================] - 0s 3ms/step - loss: 0.5986 - accuracy: 0.9042 - val_loss: 0.6147 - val_accuracy: 0.8964\n",
            "Epoch 21/30\n",
            "109/116 [===========================>..] - ETA: 0s - loss: 0.5792 - accuracy: 0.9071\n",
            "Epoch 21: val_accuracy did not improve from 0.89860\n",
            "116/116 [==============================] - 0s 3ms/step - loss: 0.5790 - accuracy: 0.9077 - val_loss: 0.6104 - val_accuracy: 0.8835\n",
            "Epoch 22/30\n",
            " 99/116 [========================>.....] - ETA: 0s - loss: 0.5465 - accuracy: 0.9160\n",
            "Epoch 22: val_accuracy did not improve from 0.89860\n",
            "116/116 [==============================] - 0s 3ms/step - loss: 0.5607 - accuracy: 0.9101 - val_loss: 0.5949 - val_accuracy: 0.8921\n",
            "Epoch 23/30\n",
            "109/116 [===========================>..] - ETA: 0s - loss: 0.5656 - accuracy: 0.9097\n",
            "Epoch 23: val_accuracy did not improve from 0.89860\n",
            "116/116 [==============================] - 0s 4ms/step - loss: 0.5667 - accuracy: 0.9088 - val_loss: 0.5968 - val_accuracy: 0.8867\n",
            "Epoch 24/30\n",
            "111/116 [===========================>..] - ETA: 0s - loss: 0.5538 - accuracy: 0.9130\n",
            "Epoch 24: val_accuracy improved from 0.89860 to 0.90291, saving model to best_model_fold_1.h5\n",
            "116/116 [==============================] - 0s 4ms/step - loss: 0.5511 - accuracy: 0.9139 - val_loss: 0.5704 - val_accuracy: 0.9029\n",
            "Epoch 25/30\n",
            "116/116 [==============================] - ETA: 0s - loss: 0.5446 - accuracy: 0.9120\n",
            "Epoch 25: val_accuracy did not improve from 0.90291\n",
            "116/116 [==============================] - 0s 4ms/step - loss: 0.5446 - accuracy: 0.9120 - val_loss: 0.6083 - val_accuracy: 0.8835\n",
            "Epoch 26/30\n",
            "109/116 [===========================>..] - ETA: 0s - loss: 0.5525 - accuracy: 0.9074\n",
            "Epoch 26: val_accuracy improved from 0.90291 to 0.90507, saving model to best_model_fold_1.h5\n",
            "116/116 [==============================] - 1s 5ms/step - loss: 0.5503 - accuracy: 0.9082 - val_loss: 0.5416 - val_accuracy: 0.9051\n",
            "Epoch 27/30\n",
            "105/116 [==========================>...] - ETA: 0s - loss: 0.5206 - accuracy: 0.9179\n",
            "Epoch 27: val_accuracy did not improve from 0.90507\n",
            "116/116 [==============================] - 1s 5ms/step - loss: 0.5269 - accuracy: 0.9139 - val_loss: 0.6080 - val_accuracy: 0.8738\n",
            "Epoch 28/30\n",
            "116/116 [==============================] - ETA: 0s - loss: 0.5287 - accuracy: 0.9147\n",
            "Epoch 28: val_accuracy improved from 0.90507 to 0.91154, saving model to best_model_fold_1.h5\n",
            "116/116 [==============================] - 1s 5ms/step - loss: 0.5287 - accuracy: 0.9147 - val_loss: 0.5489 - val_accuracy: 0.9115\n",
            "Epoch 29/30\n",
            "116/116 [==============================] - ETA: 0s - loss: 0.5205 - accuracy: 0.9144\n",
            "Epoch 29: val_accuracy did not improve from 0.91154\n",
            "116/116 [==============================] - 1s 6ms/step - loss: 0.5205 - accuracy: 0.9144 - val_loss: 0.5535 - val_accuracy: 0.8910\n",
            "Epoch 30/30\n",
            "112/116 [===========================>..] - ETA: 0s - loss: 0.5080 - accuracy: 0.9166\n",
            "Epoch 30: val_accuracy improved from 0.91154 to 0.91586, saving model to best_model_fold_1.h5\n",
            "116/116 [==============================] - 1s 5ms/step - loss: 0.5101 - accuracy: 0.9163 - val_loss: 0.5301 - val_accuracy: 0.9159\n"
          ]
        },
        {
          "output_type": "stream",
          "name": "stderr",
          "text": [
            "WARNING:absl:`lr` is deprecated in Keras optimizer, please use `learning_rate` or use the legacy optimizer, e.g.,tf.keras.optimizers.legacy.Adam.\n"
          ]
        },
        {
          "output_type": "stream",
          "name": "stdout",
          "text": [
            "Fold 1 - Model loss: 0.5300998091697693\n",
            "Fold 1 - Model accuracy: 91.59%\n",
            "Epoch 1/30\n",
            "114/116 [============================>.] - ETA: 0s - loss: 2.5937 - accuracy: 0.3385\n",
            "Epoch 1: val_accuracy improved from -inf to 0.55124, saving model to best_model_fold_2.h5\n",
            "116/116 [==============================] - 1s 5ms/step - loss: 2.5857 - accuracy: 0.3412 - val_loss: 1.8082 - val_accuracy: 0.5512\n",
            "Epoch 2/30\n",
            "113/116 [============================>.] - ETA: 0s - loss: 1.5040 - accuracy: 0.6391\n",
            "Epoch 2: val_accuracy improved from 0.55124 to 0.70119, saving model to best_model_fold_2.h5\n",
            "116/116 [==============================] - 0s 4ms/step - loss: 1.4997 - accuracy: 0.6394 - val_loss: 1.2879 - val_accuracy: 0.7012\n",
            "Epoch 3/30\n",
            "112/116 [===========================>..] - ETA: 0s - loss: 1.1642 - accuracy: 0.7294\n",
            "Epoch 3: val_accuracy improved from 0.70119 to 0.75081, saving model to best_model_fold_2.h5\n",
            "116/116 [==============================] - 0s 4ms/step - loss: 1.1621 - accuracy: 0.7296 - val_loss: 1.0797 - val_accuracy: 0.7508\n",
            "Epoch 4/30\n",
            "101/116 [=========================>....] - ETA: 0s - loss: 1.0139 - accuracy: 0.7797\n",
            "Epoch 4: val_accuracy improved from 0.75081 to 0.77778, saving model to best_model_fold_2.h5\n",
            "116/116 [==============================] - 0s 4ms/step - loss: 1.0149 - accuracy: 0.7771 - val_loss: 0.9947 - val_accuracy: 0.7778\n",
            "Epoch 5/30\n",
            "110/116 [===========================>..] - ETA: 0s - loss: 0.9304 - accuracy: 0.7974\n",
            "Epoch 5: val_accuracy improved from 0.77778 to 0.80906, saving model to best_model_fold_2.h5\n",
            "116/116 [==============================] - 0s 4ms/step - loss: 0.9271 - accuracy: 0.7984 - val_loss: 0.9011 - val_accuracy: 0.8091\n",
            "Epoch 6/30\n",
            "113/116 [============================>.] - ETA: 0s - loss: 0.8533 - accuracy: 0.8252\n",
            "Epoch 6: val_accuracy improved from 0.80906 to 0.82201, saving model to best_model_fold_2.h5\n",
            "116/116 [==============================] - 0s 4ms/step - loss: 0.8555 - accuracy: 0.8243 - val_loss: 0.8642 - val_accuracy: 0.8220\n",
            "Epoch 7/30\n",
            "111/116 [===========================>..] - ETA: 0s - loss: 0.8211 - accuracy: 0.8333\n",
            "Epoch 7: val_accuracy did not improve from 0.82201\n",
            "116/116 [==============================] - 0s 4ms/step - loss: 0.8197 - accuracy: 0.8335 - val_loss: 0.8654 - val_accuracy: 0.8015\n",
            "Epoch 8/30\n",
            "113/116 [============================>.] - ETA: 0s - loss: 0.7826 - accuracy: 0.8449\n",
            "Epoch 8: val_accuracy improved from 0.82201 to 0.84466, saving model to best_model_fold_2.h5\n",
            "116/116 [==============================] - 0s 4ms/step - loss: 0.7813 - accuracy: 0.8451 - val_loss: 0.7762 - val_accuracy: 0.8447\n",
            "Epoch 9/30\n",
            "116/116 [==============================] - ETA: 0s - loss: 0.7610 - accuracy: 0.8435\n",
            "Epoch 9: val_accuracy improved from 0.84466 to 0.84898, saving model to best_model_fold_2.h5\n",
            "116/116 [==============================] - 0s 4ms/step - loss: 0.7610 - accuracy: 0.8435 - val_loss: 0.7524 - val_accuracy: 0.8490\n",
            "Epoch 10/30\n",
            "113/116 [============================>.] - ETA: 0s - loss: 0.7337 - accuracy: 0.8609\n",
            "Epoch 10: val_accuracy did not improve from 0.84898\n",
            "116/116 [==============================] - 1s 5ms/step - loss: 0.7327 - accuracy: 0.8605 - val_loss: 0.7362 - val_accuracy: 0.8479\n",
            "Epoch 11/30\n",
            "114/116 [============================>.] - ETA: 0s - loss: 0.7156 - accuracy: 0.8618\n",
            "Epoch 11: val_accuracy improved from 0.84898 to 0.85868, saving model to best_model_fold_2.h5\n",
            "116/116 [==============================] - 1s 5ms/step - loss: 0.7154 - accuracy: 0.8618 - val_loss: 0.6983 - val_accuracy: 0.8587\n",
            "Epoch 12/30\n",
            "116/116 [==============================] - ETA: 0s - loss: 0.7015 - accuracy: 0.8664\n",
            "Epoch 12: val_accuracy did not improve from 0.85868\n",
            "116/116 [==============================] - 1s 6ms/step - loss: 0.7015 - accuracy: 0.8664 - val_loss: 0.7018 - val_accuracy: 0.8544\n",
            "Epoch 13/30\n",
            "116/116 [==============================] - ETA: 0s - loss: 0.6883 - accuracy: 0.8613\n",
            "Epoch 13: val_accuracy did not improve from 0.85868\n",
            "116/116 [==============================] - 1s 5ms/step - loss: 0.6883 - accuracy: 0.8613 - val_loss: 0.6994 - val_accuracy: 0.8436\n",
            "Epoch 14/30\n",
            "112/116 [===========================>..] - ETA: 0s - loss: 0.6694 - accuracy: 0.8686\n",
            "Epoch 14: val_accuracy did not improve from 0.85868\n",
            "116/116 [==============================] - 1s 5ms/step - loss: 0.6673 - accuracy: 0.8696 - val_loss: 0.7105 - val_accuracy: 0.8587\n",
            "Epoch 15/30\n",
            "109/116 [===========================>..] - ETA: 0s - loss: 0.6519 - accuracy: 0.8756\n",
            "Epoch 15: val_accuracy improved from 0.85868 to 0.87271, saving model to best_model_fold_2.h5\n",
            "116/116 [==============================] - 1s 6ms/step - loss: 0.6535 - accuracy: 0.8734 - val_loss: 0.6428 - val_accuracy: 0.8727\n",
            "Epoch 16/30\n",
            "102/116 [=========================>....] - ETA: 0s - loss: 0.6318 - accuracy: 0.8799\n",
            "Epoch 16: val_accuracy did not improve from 0.87271\n",
            "116/116 [==============================] - 1s 5ms/step - loss: 0.6288 - accuracy: 0.8818 - val_loss: 0.6381 - val_accuracy: 0.8716\n",
            "Epoch 17/30\n",
            "107/116 [==========================>...] - ETA: 0s - loss: 0.6226 - accuracy: 0.8852\n",
            "Epoch 17: val_accuracy did not improve from 0.87271\n",
            "116/116 [==============================] - 0s 4ms/step - loss: 0.6199 - accuracy: 0.8861 - val_loss: 0.6564 - val_accuracy: 0.8684\n",
            "Epoch 18/30\n",
            "105/116 [==========================>...] - ETA: 0s - loss: 0.6053 - accuracy: 0.8869\n",
            "Epoch 18: val_accuracy improved from 0.87271 to 0.87702, saving model to best_model_fold_2.h5\n",
            "116/116 [==============================] - 1s 5ms/step - loss: 0.6063 - accuracy: 0.8864 - val_loss: 0.6165 - val_accuracy: 0.8770\n",
            "Epoch 19/30\n",
            "101/116 [=========================>....] - ETA: 0s - loss: 0.6091 - accuracy: 0.8852\n",
            "Epoch 19: val_accuracy improved from 0.87702 to 0.88565, saving model to best_model_fold_2.h5\n",
            "116/116 [==============================] - 0s 4ms/step - loss: 0.6077 - accuracy: 0.8848 - val_loss: 0.6058 - val_accuracy: 0.8857\n",
            "Epoch 20/30\n",
            "108/116 [==========================>...] - ETA: 0s - loss: 0.5852 - accuracy: 0.8938\n",
            "Epoch 20: val_accuracy did not improve from 0.88565\n",
            "116/116 [==============================] - 0s 4ms/step - loss: 0.5893 - accuracy: 0.8928 - val_loss: 0.5972 - val_accuracy: 0.8846\n",
            "Epoch 21/30\n",
            "102/116 [=========================>....] - ETA: 0s - loss: 0.5964 - accuracy: 0.8906\n",
            "Epoch 21: val_accuracy did not improve from 0.88565\n",
            "116/116 [==============================] - 0s 3ms/step - loss: 0.5909 - accuracy: 0.8939 - val_loss: 0.6193 - val_accuracy: 0.8652\n",
            "Epoch 22/30\n",
            "111/116 [===========================>..] - ETA: 0s - loss: 0.5760 - accuracy: 0.8916\n",
            "Epoch 22: val_accuracy did not improve from 0.88565\n",
            "116/116 [==============================] - 0s 4ms/step - loss: 0.5740 - accuracy: 0.8926 - val_loss: 0.6093 - val_accuracy: 0.8749\n",
            "Epoch 23/30\n",
            " 99/116 [========================>.....] - ETA: 0s - loss: 0.5647 - accuracy: 0.8961\n",
            "Epoch 23: val_accuracy improved from 0.88565 to 0.88781, saving model to best_model_fold_2.h5\n",
            "116/116 [==============================] - 0s 4ms/step - loss: 0.5623 - accuracy: 0.8966 - val_loss: 0.5747 - val_accuracy: 0.8878\n",
            "Epoch 24/30\n",
            " 99/116 [========================>.....] - ETA: 0s - loss: 0.5598 - accuracy: 0.8939\n",
            "Epoch 24: val_accuracy improved from 0.88781 to 0.88889, saving model to best_model_fold_2.h5\n",
            "116/116 [==============================] - 0s 3ms/step - loss: 0.5499 - accuracy: 0.8999 - val_loss: 0.5655 - val_accuracy: 0.8889\n",
            "Epoch 25/30\n",
            " 98/116 [========================>.....] - ETA: 0s - loss: 0.5383 - accuracy: 0.9021\n",
            "Epoch 25: val_accuracy did not improve from 0.88889\n",
            "116/116 [==============================] - 0s 3ms/step - loss: 0.5389 - accuracy: 0.9047 - val_loss: 0.5887 - val_accuracy: 0.8759\n",
            "Epoch 26/30\n",
            "114/116 [============================>.] - ETA: 0s - loss: 0.5400 - accuracy: 0.9035\n",
            "Epoch 26: val_accuracy did not improve from 0.88889\n",
            "116/116 [==============================] - 0s 3ms/step - loss: 0.5409 - accuracy: 0.9034 - val_loss: 0.6056 - val_accuracy: 0.8727\n",
            "Epoch 27/30\n",
            "106/116 [==========================>...] - ETA: 0s - loss: 0.5422 - accuracy: 0.8992\n",
            "Epoch 27: val_accuracy improved from 0.88889 to 0.89860, saving model to best_model_fold_2.h5\n",
            "116/116 [==============================] - 0s 4ms/step - loss: 0.5453 - accuracy: 0.8988 - val_loss: 0.5349 - val_accuracy: 0.8986\n",
            "Epoch 28/30\n",
            "111/116 [===========================>..] - ETA: 0s - loss: 0.5181 - accuracy: 0.9113\n",
            "Epoch 28: val_accuracy did not improve from 0.89860\n",
            "116/116 [==============================] - 0s 4ms/step - loss: 0.5223 - accuracy: 0.9099 - val_loss: 0.5924 - val_accuracy: 0.8835\n",
            "Epoch 29/30\n",
            " 99/116 [========================>.....] - ETA: 0s - loss: 0.5226 - accuracy: 0.9094\n",
            "Epoch 29: val_accuracy improved from 0.89860 to 0.90615, saving model to best_model_fold_2.h5\n",
            "116/116 [==============================] - 0s 4ms/step - loss: 0.5137 - accuracy: 0.9128 - val_loss: 0.5210 - val_accuracy: 0.9061\n",
            "Epoch 30/30\n",
            "112/116 [===========================>..] - ETA: 0s - loss: 0.5087 - accuracy: 0.9102\n",
            "Epoch 30: val_accuracy did not improve from 0.90615\n",
            "116/116 [==============================] - 0s 4ms/step - loss: 0.5116 - accuracy: 0.9090 - val_loss: 0.5520 - val_accuracy: 0.8964\n",
            "Fold 2 - Model loss: 0.5519871711730957\n",
            "Fold 2 - Model accuracy: 89.64%\n"
          ]
        },
        {
          "output_type": "stream",
          "name": "stderr",
          "text": [
            "WARNING:absl:`lr` is deprecated in Keras optimizer, please use `learning_rate` or use the legacy optimizer, e.g.,tf.keras.optimizers.legacy.Adam.\n"
          ]
        },
        {
          "output_type": "stream",
          "name": "stdout",
          "text": [
            "Epoch 1/30\n",
            "102/116 [=========================>....] - ETA: 0s - loss: 2.7542 - accuracy: 0.3183\n",
            "Epoch 1: val_accuracy improved from -inf to 0.57883, saving model to best_model_fold_3.h5\n",
            "116/116 [==============================] - 1s 6ms/step - loss: 2.6370 - accuracy: 0.3508 - val_loss: 1.7475 - val_accuracy: 0.5788\n",
            "Epoch 2/30\n",
            "106/116 [==========================>...] - ETA: 0s - loss: 1.4486 - accuracy: 0.6695\n",
            "Epoch 2: val_accuracy improved from 0.57883 to 0.72030, saving model to best_model_fold_3.h5\n",
            "116/116 [==============================] - 0s 4ms/step - loss: 1.4326 - accuracy: 0.6740 - val_loss: 1.2536 - val_accuracy: 0.7203\n",
            "Epoch 3/30\n",
            "114/116 [============================>.] - ETA: 0s - loss: 1.1254 - accuracy: 0.7473\n",
            "Epoch 3: val_accuracy improved from 0.72030 to 0.76674, saving model to best_model_fold_3.h5\n",
            "116/116 [==============================] - 0s 4ms/step - loss: 1.1213 - accuracy: 0.7488 - val_loss: 1.0505 - val_accuracy: 0.7667\n",
            "Epoch 4/30\n",
            " 97/116 [========================>.....] - ETA: 0s - loss: 1.0004 - accuracy: 0.7774\n",
            "Epoch 4: val_accuracy improved from 0.76674 to 0.80454, saving model to best_model_fold_3.h5\n",
            "116/116 [==============================] - 0s 3ms/step - loss: 0.9861 - accuracy: 0.7809 - val_loss: 0.9472 - val_accuracy: 0.8045\n",
            "Epoch 5/30\n",
            "111/116 [===========================>..] - ETA: 0s - loss: 0.9054 - accuracy: 0.8041\n",
            "Epoch 5: val_accuracy did not improve from 0.80454\n",
            "116/116 [==============================] - 0s 4ms/step - loss: 0.9023 - accuracy: 0.8038 - val_loss: 0.9064 - val_accuracy: 0.8045\n",
            "Epoch 6/30\n",
            "108/116 [==========================>...] - ETA: 0s - loss: 0.8442 - accuracy: 0.8209\n",
            "Epoch 6: val_accuracy improved from 0.80454 to 0.82073, saving model to best_model_fold_3.h5\n",
            "116/116 [==============================] - 1s 5ms/step - loss: 0.8459 - accuracy: 0.8189 - val_loss: 0.8653 - val_accuracy: 0.8207\n",
            "Epoch 7/30\n",
            "108/116 [==========================>...] - ETA: 0s - loss: 0.8008 - accuracy: 0.8385\n",
            "Epoch 7: val_accuracy improved from 0.82073 to 0.84773, saving model to best_model_fold_3.h5\n",
            "116/116 [==============================] - 1s 5ms/step - loss: 0.7942 - accuracy: 0.8419 - val_loss: 0.8086 - val_accuracy: 0.8477\n",
            "Epoch 8/30\n",
            "111/116 [===========================>..] - ETA: 0s - loss: 0.7588 - accuracy: 0.8390\n",
            "Epoch 8: val_accuracy improved from 0.84773 to 0.85097, saving model to best_model_fold_3.h5\n",
            "116/116 [==============================] - 1s 5ms/step - loss: 0.7594 - accuracy: 0.8392 - val_loss: 0.7912 - val_accuracy: 0.8510\n",
            "Epoch 9/30\n",
            "113/116 [============================>.] - ETA: 0s - loss: 0.7318 - accuracy: 0.8507\n",
            "Epoch 9: val_accuracy did not improve from 0.85097\n",
            "116/116 [==============================] - 1s 6ms/step - loss: 0.7321 - accuracy: 0.8508 - val_loss: 0.7768 - val_accuracy: 0.8477\n",
            "Epoch 10/30\n",
            "110/116 [===========================>..] - ETA: 0s - loss: 0.7096 - accuracy: 0.8560\n",
            "Epoch 10: val_accuracy did not improve from 0.85097\n",
            "116/116 [==============================] - 1s 5ms/step - loss: 0.7060 - accuracy: 0.8573 - val_loss: 0.7562 - val_accuracy: 0.8510\n",
            "Epoch 11/30\n",
            "105/116 [==========================>...] - ETA: 0s - loss: 0.6853 - accuracy: 0.8652\n",
            "Epoch 11: val_accuracy improved from 0.85097 to 0.86393, saving model to best_model_fold_3.h5\n",
            "116/116 [==============================] - 1s 5ms/step - loss: 0.6890 - accuracy: 0.8640 - val_loss: 0.7225 - val_accuracy: 0.8639\n",
            "Epoch 12/30\n",
            "114/116 [============================>.] - ETA: 0s - loss: 0.6658 - accuracy: 0.8703\n",
            "Epoch 12: val_accuracy did not improve from 0.86393\n",
            "116/116 [==============================] - 1s 6ms/step - loss: 0.6684 - accuracy: 0.8694 - val_loss: 0.7025 - val_accuracy: 0.8639\n",
            "Epoch 13/30\n",
            "111/116 [===========================>..] - ETA: 0s - loss: 0.6462 - accuracy: 0.8773\n",
            "Epoch 13: val_accuracy did not improve from 0.86393\n",
            "116/116 [==============================] - 0s 4ms/step - loss: 0.6508 - accuracy: 0.8743 - val_loss: 0.7518 - val_accuracy: 0.8477\n",
            "Epoch 14/30\n",
            "100/116 [========================>.....] - ETA: 0s - loss: 0.6447 - accuracy: 0.8709\n",
            "Epoch 14: val_accuracy did not improve from 0.86393\n",
            "116/116 [==============================] - 0s 3ms/step - loss: 0.6414 - accuracy: 0.8705 - val_loss: 0.7319 - val_accuracy: 0.8553\n",
            "Epoch 15/30\n",
            " 99/116 [========================>.....] - ETA: 0s - loss: 0.6159 - accuracy: 0.8823\n",
            "Epoch 15: val_accuracy did not improve from 0.86393\n",
            "116/116 [==============================] - 0s 3ms/step - loss: 0.6280 - accuracy: 0.8780 - val_loss: 0.6841 - val_accuracy: 0.8607\n",
            "Epoch 16/30\n",
            "111/116 [===========================>..] - ETA: 0s - loss: 0.6111 - accuracy: 0.8823\n",
            "Epoch 16: val_accuracy improved from 0.86393 to 0.87257, saving model to best_model_fold_3.h5\n",
            "116/116 [==============================] - 0s 4ms/step - loss: 0.6062 - accuracy: 0.8845 - val_loss: 0.6671 - val_accuracy: 0.8726\n",
            "Epoch 17/30\n",
            "104/116 [=========================>....] - ETA: 0s - loss: 0.5967 - accuracy: 0.8837\n",
            "Epoch 17: val_accuracy did not improve from 0.87257\n",
            "116/116 [==============================] - 0s 4ms/step - loss: 0.5980 - accuracy: 0.8834 - val_loss: 0.6800 - val_accuracy: 0.8607\n",
            "Epoch 18/30\n",
            "103/116 [=========================>....] - ETA: 0s - loss: 0.6061 - accuracy: 0.8796\n",
            "Epoch 18: val_accuracy did not improve from 0.87257\n",
            "116/116 [==============================] - 0s 3ms/step - loss: 0.6038 - accuracy: 0.8807 - val_loss: 0.6622 - val_accuracy: 0.8650\n",
            "Epoch 19/30\n",
            "110/116 [===========================>..] - ETA: 0s - loss: 0.5933 - accuracy: 0.8861\n",
            "Epoch 19: val_accuracy improved from 0.87257 to 0.88121, saving model to best_model_fold_3.h5\n",
            "116/116 [==============================] - 0s 4ms/step - loss: 0.5926 - accuracy: 0.8856 - val_loss: 0.6487 - val_accuracy: 0.8812\n",
            "Epoch 20/30\n",
            "105/116 [==========================>...] - ETA: 0s - loss: 0.5727 - accuracy: 0.8896\n",
            "Epoch 20: val_accuracy did not improve from 0.88121\n",
            "116/116 [==============================] - 0s 3ms/step - loss: 0.5705 - accuracy: 0.8896 - val_loss: 0.6198 - val_accuracy: 0.8812\n",
            "Epoch 21/30\n",
            " 99/116 [========================>.....] - ETA: 0s - loss: 0.5611 - accuracy: 0.8993\n",
            "Epoch 21: val_accuracy improved from 0.88121 to 0.89417, saving model to best_model_fold_3.h5\n",
            "116/116 [==============================] - 0s 3ms/step - loss: 0.5628 - accuracy: 0.8980 - val_loss: 0.6159 - val_accuracy: 0.8942\n",
            "Epoch 22/30\n",
            "113/116 [============================>.] - ETA: 0s - loss: 0.5580 - accuracy: 0.8982\n",
            "Epoch 22: val_accuracy did not improve from 0.89417\n",
            "116/116 [==============================] - 0s 4ms/step - loss: 0.5558 - accuracy: 0.8988 - val_loss: 0.6167 - val_accuracy: 0.8877\n",
            "Epoch 23/30\n",
            "110/116 [===========================>..] - ETA: 0s - loss: 0.5344 - accuracy: 0.9014\n",
            "Epoch 23: val_accuracy did not improve from 0.89417\n",
            "116/116 [==============================] - 0s 3ms/step - loss: 0.5394 - accuracy: 0.8994 - val_loss: 0.6167 - val_accuracy: 0.8790\n",
            "Epoch 24/30\n",
            "111/116 [===========================>..] - ETA: 0s - loss: 0.5338 - accuracy: 0.9023\n",
            "Epoch 24: val_accuracy did not improve from 0.89417\n",
            "116/116 [==============================] - 0s 4ms/step - loss: 0.5346 - accuracy: 0.9007 - val_loss: 0.6530 - val_accuracy: 0.8747\n",
            "Epoch 25/30\n",
            " 97/116 [========================>.....] - ETA: 0s - loss: 0.5398 - accuracy: 0.8998\n",
            "Epoch 25: val_accuracy did not improve from 0.89417\n",
            "116/116 [==============================] - 0s 3ms/step - loss: 0.5365 - accuracy: 0.8994 - val_loss: 0.6023 - val_accuracy: 0.8790\n",
            "Epoch 26/30\n",
            "106/116 [==========================>...] - ETA: 0s - loss: 0.5222 - accuracy: 0.9039\n",
            "Epoch 26: val_accuracy improved from 0.89417 to 0.89957, saving model to best_model_fold_3.h5\n",
            "116/116 [==============================] - 1s 5ms/step - loss: 0.5210 - accuracy: 0.9042 - val_loss: 0.5769 - val_accuracy: 0.8996\n",
            "Epoch 27/30\n",
            "110/116 [===========================>..] - ETA: 0s - loss: 0.5153 - accuracy: 0.9037\n",
            "Epoch 27: val_accuracy did not improve from 0.89957\n",
            "116/116 [==============================] - 0s 4ms/step - loss: 0.5160 - accuracy: 0.9034 - val_loss: 0.5715 - val_accuracy: 0.8931\n",
            "Epoch 28/30\n",
            " 97/116 [========================>.....] - ETA: 0s - loss: 0.5144 - accuracy: 0.9027\n",
            "Epoch 28: val_accuracy improved from 0.89957 to 0.90605, saving model to best_model_fold_3.h5\n",
            "116/116 [==============================] - 0s 4ms/step - loss: 0.5086 - accuracy: 0.9053 - val_loss: 0.5645 - val_accuracy: 0.9060\n",
            "Epoch 29/30\n",
            "104/116 [=========================>....] - ETA: 0s - loss: 0.5073 - accuracy: 0.9062\n",
            "Epoch 29: val_accuracy did not improve from 0.90605\n",
            "116/116 [==============================] - 0s 4ms/step - loss: 0.5088 - accuracy: 0.9069 - val_loss: 0.5812 - val_accuracy: 0.8898\n",
            "Epoch 30/30\n",
            "103/116 [=========================>....] - ETA: 0s - loss: 0.5019 - accuracy: 0.9099\n",
            "Epoch 30: val_accuracy did not improve from 0.90605\n",
            "116/116 [==============================] - 0s 4ms/step - loss: 0.5024 - accuracy: 0.9093 - val_loss: 0.5675 - val_accuracy: 0.8920\n",
            "Fold 3 - Model loss: 0.5674580335617065\n",
            "Fold 3 - Model accuracy: 89.20%\n"
          ]
        },
        {
          "output_type": "stream",
          "name": "stderr",
          "text": [
            "WARNING:absl:`lr` is deprecated in Keras optimizer, please use `learning_rate` or use the legacy optimizer, e.g.,tf.keras.optimizers.legacy.Adam.\n"
          ]
        },
        {
          "output_type": "stream",
          "name": "stdout",
          "text": [
            "Epoch 1/30\n",
            "108/116 [==========================>...] - ETA: 0s - loss: 3.0840 - accuracy: 0.3380\n",
            "Epoch 1: val_accuracy improved from -inf to 0.62095, saving model to best_model_fold_4.h5\n",
            "116/116 [==============================] - 1s 5ms/step - loss: 2.9909 - accuracy: 0.3583 - val_loss: 1.7294 - val_accuracy: 0.6210\n",
            "Epoch 2/30\n",
            "103/116 [=========================>....] - ETA: 0s - loss: 1.4715 - accuracy: 0.6872\n",
            "Epoch 2: val_accuracy improved from 0.62095 to 0.73434, saving model to best_model_fold_4.h5\n",
            "116/116 [==============================] - 0s 4ms/step - loss: 1.4445 - accuracy: 0.6954 - val_loss: 1.2394 - val_accuracy: 0.7343\n",
            "Epoch 3/30\n",
            " 95/116 [=======================>......] - ETA: 0s - loss: 1.1541 - accuracy: 0.7678\n",
            "Epoch 3: val_accuracy improved from 0.73434 to 0.77538, saving model to best_model_fold_4.h5\n",
            "116/116 [==============================] - 0s 4ms/step - loss: 1.1334 - accuracy: 0.7747 - val_loss: 1.0655 - val_accuracy: 0.7754\n",
            "Epoch 4/30\n",
            "115/116 [============================>.] - ETA: 0s - loss: 0.9969 - accuracy: 0.8101\n",
            "Epoch 4: val_accuracy did not improve from 0.77538\n",
            "116/116 [==============================] - 1s 5ms/step - loss: 0.9961 - accuracy: 0.8106 - val_loss: 1.0227 - val_accuracy: 0.7689\n",
            "Epoch 5/30\n",
            "106/116 [==========================>...] - ETA: 0s - loss: 0.9098 - accuracy: 0.8299\n",
            "Epoch 5: val_accuracy improved from 0.77538 to 0.82073, saving model to best_model_fold_4.h5\n",
            "116/116 [==============================] - 1s 6ms/step - loss: 0.9128 - accuracy: 0.8303 - val_loss: 0.8891 - val_accuracy: 0.8207\n",
            "Epoch 6/30\n",
            "110/116 [===========================>..] - ETA: 0s - loss: 0.8564 - accuracy: 0.8381\n",
            "Epoch 6: val_accuracy did not improve from 0.82073\n",
            "116/116 [==============================] - 1s 6ms/step - loss: 0.8558 - accuracy: 0.8389 - val_loss: 0.8731 - val_accuracy: 0.8153\n",
            "Epoch 7/30\n",
            "110/116 [===========================>..] - ETA: 0s - loss: 0.8145 - accuracy: 0.8528\n",
            "Epoch 7: val_accuracy improved from 0.82073 to 0.84989, saving model to best_model_fold_4.h5\n",
            "116/116 [==============================] - 1s 6ms/step - loss: 0.8138 - accuracy: 0.8535 - val_loss: 0.7993 - val_accuracy: 0.8499\n",
            "Epoch 8/30\n",
            "115/116 [============================>.] - ETA: 0s - loss: 0.7765 - accuracy: 0.8554\n",
            "Epoch 8: val_accuracy did not improve from 0.84989\n",
            "116/116 [==============================] - 1s 5ms/step - loss: 0.7769 - accuracy: 0.8556 - val_loss: 0.8250 - val_accuracy: 0.8261\n",
            "Epoch 9/30\n",
            "107/116 [==========================>...] - ETA: 0s - loss: 0.7414 - accuracy: 0.8645\n",
            "Epoch 9: val_accuracy did not improve from 0.84989\n",
            "116/116 [==============================] - 1s 6ms/step - loss: 0.7426 - accuracy: 0.8651 - val_loss: 0.7871 - val_accuracy: 0.8499\n",
            "Epoch 10/30\n",
            "100/116 [========================>.....] - ETA: 0s - loss: 0.7193 - accuracy: 0.8694\n",
            "Epoch 10: val_accuracy improved from 0.84989 to 0.85421, saving model to best_model_fold_4.h5\n",
            "116/116 [==============================] - 1s 5ms/step - loss: 0.7221 - accuracy: 0.8675 - val_loss: 0.7441 - val_accuracy: 0.8542\n",
            "Epoch 11/30\n",
            " 98/116 [========================>.....] - ETA: 0s - loss: 0.6853 - accuracy: 0.8760\n",
            "Epoch 11: val_accuracy did not improve from 0.85421\n",
            "116/116 [==============================] - 0s 3ms/step - loss: 0.6895 - accuracy: 0.8748 - val_loss: 0.7337 - val_accuracy: 0.8467\n",
            "Epoch 12/30\n",
            "116/116 [==============================] - ETA: 0s - loss: 0.6765 - accuracy: 0.8805\n",
            "Epoch 12: val_accuracy improved from 0.85421 to 0.86501, saving model to best_model_fold_4.h5\n",
            "116/116 [==============================] - 0s 4ms/step - loss: 0.6765 - accuracy: 0.8805 - val_loss: 0.7101 - val_accuracy: 0.8650\n",
            "Epoch 13/30\n",
            "102/116 [=========================>....] - ETA: 0s - loss: 0.6661 - accuracy: 0.8775\n",
            "Epoch 13: val_accuracy did not improve from 0.86501\n",
            "116/116 [==============================] - 0s 3ms/step - loss: 0.6605 - accuracy: 0.8797 - val_loss: 0.6889 - val_accuracy: 0.8607\n",
            "Epoch 14/30\n",
            "112/116 [===========================>..] - ETA: 0s - loss: 0.6489 - accuracy: 0.8823\n",
            "Epoch 14: val_accuracy improved from 0.86501 to 0.86717, saving model to best_model_fold_4.h5\n",
            "116/116 [==============================] - 0s 4ms/step - loss: 0.6475 - accuracy: 0.8826 - val_loss: 0.6744 - val_accuracy: 0.8672\n",
            "Epoch 15/30\n",
            "109/116 [===========================>..] - ETA: 0s - loss: 0.6210 - accuracy: 0.8908\n",
            "Epoch 15: val_accuracy improved from 0.86717 to 0.87149, saving model to best_model_fold_4.h5\n",
            "116/116 [==============================] - 0s 4ms/step - loss: 0.6244 - accuracy: 0.8902 - val_loss: 0.6558 - val_accuracy: 0.8715\n",
            "Epoch 16/30\n",
            "101/116 [=========================>....] - ETA: 0s - loss: 0.6202 - accuracy: 0.8908\n",
            "Epoch 16: val_accuracy improved from 0.87149 to 0.88013, saving model to best_model_fold_4.h5\n",
            "116/116 [==============================] - 0s 4ms/step - loss: 0.6169 - accuracy: 0.8913 - val_loss: 0.6473 - val_accuracy: 0.8801\n",
            "Epoch 17/30\n",
            "109/116 [===========================>..] - ETA: 0s - loss: 0.6010 - accuracy: 0.8939\n",
            "Epoch 17: val_accuracy did not improve from 0.88013\n",
            "116/116 [==============================] - 0s 4ms/step - loss: 0.6021 - accuracy: 0.8929 - val_loss: 0.6394 - val_accuracy: 0.8801\n",
            "Epoch 18/30\n",
            "103/116 [=========================>....] - ETA: 0s - loss: 0.5952 - accuracy: 0.8990\n",
            "Epoch 18: val_accuracy improved from 0.88013 to 0.88553, saving model to best_model_fold_4.h5\n",
            "116/116 [==============================] - 0s 4ms/step - loss: 0.5951 - accuracy: 0.8983 - val_loss: 0.6260 - val_accuracy: 0.8855\n",
            "Epoch 19/30\n",
            "106/116 [==========================>...] - ETA: 0s - loss: 0.5784 - accuracy: 0.8983\n",
            "Epoch 19: val_accuracy did not improve from 0.88553\n",
            "116/116 [==============================] - 0s 4ms/step - loss: 0.5743 - accuracy: 0.8985 - val_loss: 0.6185 - val_accuracy: 0.8834\n",
            "Epoch 20/30\n",
            "106/116 [==========================>...] - ETA: 0s - loss: 0.5754 - accuracy: 0.8998\n",
            "Epoch 20: val_accuracy improved from 0.88553 to 0.88661, saving model to best_model_fold_4.h5\n",
            "116/116 [==============================] - 0s 4ms/step - loss: 0.5799 - accuracy: 0.8977 - val_loss: 0.6089 - val_accuracy: 0.8866\n",
            "Epoch 21/30\n",
            "109/116 [===========================>..] - ETA: 0s - loss: 0.5812 - accuracy: 0.8908\n",
            "Epoch 21: val_accuracy did not improve from 0.88661\n",
            "116/116 [==============================] - 0s 4ms/step - loss: 0.5824 - accuracy: 0.8907 - val_loss: 0.6204 - val_accuracy: 0.8693\n",
            "Epoch 22/30\n",
            "102/116 [=========================>....] - ETA: 0s - loss: 0.5554 - accuracy: 0.8998\n",
            "Epoch 22: val_accuracy did not improve from 0.88661\n",
            "116/116 [==============================] - 0s 4ms/step - loss: 0.5578 - accuracy: 0.9004 - val_loss: 0.6063 - val_accuracy: 0.8790\n",
            "Epoch 23/30\n",
            "112/116 [===========================>..] - ETA: 0s - loss: 0.5461 - accuracy: 0.8979\n",
            "Epoch 23: val_accuracy did not improve from 0.88661\n",
            "116/116 [==============================] - 0s 4ms/step - loss: 0.5514 - accuracy: 0.8969 - val_loss: 0.6245 - val_accuracy: 0.8650\n",
            "Epoch 24/30\n",
            " 99/116 [========================>.....] - ETA: 0s - loss: 0.5411 - accuracy: 0.9040\n",
            "Epoch 24: val_accuracy did not improve from 0.88661\n",
            "116/116 [==============================] - 0s 3ms/step - loss: 0.5443 - accuracy: 0.9010 - val_loss: 0.5928 - val_accuracy: 0.8823\n",
            "Epoch 25/30\n",
            "100/116 [========================>.....] - ETA: 0s - loss: 0.5229 - accuracy: 0.9081\n",
            "Epoch 25: val_accuracy did not improve from 0.88661\n",
            "116/116 [==============================] - 0s 3ms/step - loss: 0.5334 - accuracy: 0.9058 - val_loss: 0.5924 - val_accuracy: 0.8844\n",
            "Epoch 26/30\n",
            "114/116 [============================>.] - ETA: 0s - loss: 0.5323 - accuracy: 0.9073\n",
            "Epoch 26: val_accuracy did not improve from 0.88661\n",
            "116/116 [==============================] - 0s 3ms/step - loss: 0.5334 - accuracy: 0.9066 - val_loss: 0.5904 - val_accuracy: 0.8801\n",
            "Epoch 27/30\n",
            "112/116 [===========================>..] - ETA: 0s - loss: 0.5311 - accuracy: 0.9026\n",
            "Epoch 27: val_accuracy did not improve from 0.88661\n",
            "116/116 [==============================] - 0s 4ms/step - loss: 0.5290 - accuracy: 0.9031 - val_loss: 0.6050 - val_accuracy: 0.8801\n",
            "Epoch 28/30\n",
            "104/116 [=========================>....] - ETA: 0s - loss: 0.5161 - accuracy: 0.9108\n",
            "Epoch 28: val_accuracy did not improve from 0.88661\n",
            "116/116 [==============================] - 0s 4ms/step - loss: 0.5195 - accuracy: 0.9085 - val_loss: 0.6317 - val_accuracy: 0.8672\n",
            "Epoch 29/30\n",
            "114/116 [============================>.] - ETA: 0s - loss: 0.5146 - accuracy: 0.9082\n",
            "Epoch 29: val_accuracy improved from 0.88661 to 0.89093, saving model to best_model_fold_4.h5\n",
            "116/116 [==============================] - 0s 4ms/step - loss: 0.5129 - accuracy: 0.9091 - val_loss: 0.5578 - val_accuracy: 0.8909\n",
            "Epoch 30/30\n",
            "108/116 [==========================>...] - ETA: 0s - loss: 0.5050 - accuracy: 0.9112\n",
            "Epoch 30: val_accuracy did not improve from 0.89093\n",
            "116/116 [==============================] - 0s 3ms/step - loss: 0.5090 - accuracy: 0.9107 - val_loss: 0.5606 - val_accuracy: 0.8898\n",
            "Fold 4 - Model loss: 0.5606335401535034\n",
            "Fold 4 - Model accuracy: 88.98%\n"
          ]
        },
        {
          "output_type": "stream",
          "name": "stderr",
          "text": [
            "WARNING:absl:`lr` is deprecated in Keras optimizer, please use `learning_rate` or use the legacy optimizer, e.g.,tf.keras.optimizers.legacy.Adam.\n"
          ]
        },
        {
          "output_type": "stream",
          "name": "stdout",
          "text": [
            "Epoch 1/30\n",
            "115/116 [============================>.] - ETA: 0s - loss: 3.3103 - accuracy: 0.2310\n",
            "Epoch 1: val_accuracy improved from -inf to 0.35097, saving model to best_model_fold_5.h5\n",
            "116/116 [==============================] - 2s 9ms/step - loss: 3.3031 - accuracy: 0.2315 - val_loss: 2.2659 - val_accuracy: 0.3510\n",
            "Epoch 2/30\n",
            "106/116 [==========================>...] - ETA: 0s - loss: 1.9291 - accuracy: 0.4752\n",
            "Epoch 2: val_accuracy improved from 0.35097 to 0.64579, saving model to best_model_fold_5.h5\n",
            "116/116 [==============================] - 1s 6ms/step - loss: 1.8956 - accuracy: 0.4852 - val_loss: 1.5052 - val_accuracy: 0.6458\n",
            "Epoch 3/30\n",
            "105/116 [==========================>...] - ETA: 0s - loss: 1.3196 - accuracy: 0.7000\n",
            "Epoch 3: val_accuracy improved from 0.64579 to 0.74082, saving model to best_model_fold_5.h5\n",
            "116/116 [==============================] - 1s 6ms/step - loss: 1.3081 - accuracy: 0.7032 - val_loss: 1.1805 - val_accuracy: 0.7408\n",
            "Epoch 4/30\n",
            "106/116 [==========================>...] - ETA: 0s - loss: 1.0770 - accuracy: 0.7730\n",
            "Epoch 4: val_accuracy improved from 0.74082 to 0.78942, saving model to best_model_fold_5.h5\n",
            "116/116 [==============================] - 1s 6ms/step - loss: 1.0724 - accuracy: 0.7774 - val_loss: 0.9909 - val_accuracy: 0.7894\n",
            "Epoch 5/30\n",
            "112/116 [===========================>..] - ETA: 0s - loss: 0.9648 - accuracy: 0.8114\n",
            "Epoch 5: val_accuracy improved from 0.78942 to 0.79590, saving model to best_model_fold_5.h5\n",
            "116/116 [==============================] - 1s 6ms/step - loss: 0.9647 - accuracy: 0.8100 - val_loss: 0.9453 - val_accuracy: 0.7959\n",
            "Epoch 6/30\n",
            "115/116 [============================>.] - ETA: 0s - loss: 0.9095 - accuracy: 0.8228\n",
            "Epoch 6: val_accuracy improved from 0.79590 to 0.82829, saving model to best_model_fold_5.h5\n",
            "116/116 [==============================] - 1s 6ms/step - loss: 0.9088 - accuracy: 0.8227 - val_loss: 0.8540 - val_accuracy: 0.8283\n",
            "Epoch 7/30\n",
            "106/116 [==========================>...] - ETA: 0s - loss: 0.8498 - accuracy: 0.8381\n",
            "Epoch 7: val_accuracy improved from 0.82829 to 0.83477, saving model to best_model_fold_5.h5\n",
            "116/116 [==============================] - 0s 3ms/step - loss: 0.8488 - accuracy: 0.8386 - val_loss: 0.8399 - val_accuracy: 0.8348\n",
            "Epoch 8/30\n",
            "111/116 [===========================>..] - ETA: 0s - loss: 0.8293 - accuracy: 0.8367\n",
            "Epoch 8: val_accuracy improved from 0.83477 to 0.85313, saving model to best_model_fold_5.h5\n",
            "116/116 [==============================] - 0s 4ms/step - loss: 0.8261 - accuracy: 0.8378 - val_loss: 0.7843 - val_accuracy: 0.8531\n",
            "Epoch 9/30\n",
            "114/116 [============================>.] - ETA: 0s - loss: 0.7770 - accuracy: 0.8555\n",
            "Epoch 9: val_accuracy improved from 0.85313 to 0.86717, saving model to best_model_fold_5.h5\n",
            "116/116 [==============================] - 0s 4ms/step - loss: 0.7784 - accuracy: 0.8554 - val_loss: 0.7568 - val_accuracy: 0.8672\n",
            "Epoch 10/30\n",
            "107/116 [==========================>...] - ETA: 0s - loss: 0.7691 - accuracy: 0.8493\n",
            "Epoch 10: val_accuracy did not improve from 0.86717\n",
            "116/116 [==============================] - 0s 4ms/step - loss: 0.7663 - accuracy: 0.8494 - val_loss: 0.7260 - val_accuracy: 0.8618\n",
            "Epoch 11/30\n",
            "111/116 [===========================>..] - ETA: 0s - loss: 0.7261 - accuracy: 0.8643\n",
            "Epoch 11: val_accuracy did not improve from 0.86717\n",
            "116/116 [==============================] - 0s 4ms/step - loss: 0.7294 - accuracy: 0.8632 - val_loss: 0.7427 - val_accuracy: 0.8488\n",
            "Epoch 12/30\n",
            "108/116 [==========================>...] - ETA: 0s - loss: 0.7349 - accuracy: 0.8582\n",
            "Epoch 12: val_accuracy did not improve from 0.86717\n",
            "116/116 [==============================] - 0s 4ms/step - loss: 0.7340 - accuracy: 0.8591 - val_loss: 0.7003 - val_accuracy: 0.8585\n",
            "Epoch 13/30\n",
            "105/116 [==========================>...] - ETA: 0s - loss: 0.6973 - accuracy: 0.8705\n",
            "Epoch 13: val_accuracy did not improve from 0.86717\n",
            "116/116 [==============================] - 0s 4ms/step - loss: 0.6975 - accuracy: 0.8708 - val_loss: 0.7155 - val_accuracy: 0.8661\n",
            "Epoch 14/30\n",
            "112/116 [===========================>..] - ETA: 0s - loss: 0.6806 - accuracy: 0.8750\n",
            "Epoch 14: val_accuracy improved from 0.86717 to 0.87149, saving model to best_model_fold_5.h5\n",
            "116/116 [==============================] - 0s 4ms/step - loss: 0.6805 - accuracy: 0.8753 - val_loss: 0.6537 - val_accuracy: 0.8715\n",
            "Epoch 15/30\n",
            "113/116 [============================>.] - ETA: 0s - loss: 0.6757 - accuracy: 0.8664\n",
            "Epoch 15: val_accuracy did not improve from 0.87149\n",
            "116/116 [==============================] - 0s 4ms/step - loss: 0.6775 - accuracy: 0.8656 - val_loss: 0.6766 - val_accuracy: 0.8596\n",
            "Epoch 16/30\n",
            "104/116 [=========================>....] - ETA: 0s - loss: 0.6444 - accuracy: 0.8825\n",
            "Epoch 16: val_accuracy did not improve from 0.87149\n",
            "116/116 [==============================] - 0s 3ms/step - loss: 0.6514 - accuracy: 0.8815 - val_loss: 0.6877 - val_accuracy: 0.8488\n",
            "Epoch 17/30\n",
            "100/116 [========================>.....] - ETA: 0s - loss: 0.6534 - accuracy: 0.8759\n",
            "Epoch 17: val_accuracy improved from 0.87149 to 0.87581, saving model to best_model_fold_5.h5\n",
            "116/116 [==============================] - 0s 4ms/step - loss: 0.6486 - accuracy: 0.8778 - val_loss: 0.6374 - val_accuracy: 0.8758\n",
            "Epoch 18/30\n",
            " 98/116 [========================>.....] - ETA: 0s - loss: 0.6399 - accuracy: 0.8801\n",
            "Epoch 18: val_accuracy did not improve from 0.87581\n",
            "116/116 [==============================] - 0s 3ms/step - loss: 0.6361 - accuracy: 0.8802 - val_loss: 0.6315 - val_accuracy: 0.8715\n",
            "Epoch 19/30\n",
            " 97/116 [========================>.....] - ETA: 0s - loss: 0.6171 - accuracy: 0.8840\n",
            "Epoch 19: val_accuracy improved from 0.87581 to 0.88121, saving model to best_model_fold_5.h5\n",
            "116/116 [==============================] - 0s 4ms/step - loss: 0.6119 - accuracy: 0.8864 - val_loss: 0.6092 - val_accuracy: 0.8812\n",
            "Epoch 20/30\n",
            "112/116 [===========================>..] - ETA: 0s - loss: 0.6037 - accuracy: 0.8859\n",
            "Epoch 20: val_accuracy improved from 0.88121 to 0.88337, saving model to best_model_fold_5.h5\n",
            "116/116 [==============================] - 0s 4ms/step - loss: 0.6067 - accuracy: 0.8842 - val_loss: 0.6028 - val_accuracy: 0.8834\n",
            "Epoch 21/30\n",
            " 98/116 [========================>.....] - ETA: 0s - loss: 0.5928 - accuracy: 0.8980\n",
            "Epoch 21: val_accuracy improved from 0.88337 to 0.89093, saving model to best_model_fold_5.h5\n",
            "116/116 [==============================] - 0s 3ms/step - loss: 0.5921 - accuracy: 0.8975 - val_loss: 0.5883 - val_accuracy: 0.8909\n",
            "Epoch 22/30\n",
            "106/116 [==========================>...] - ETA: 0s - loss: 0.5815 - accuracy: 0.8977\n",
            "Epoch 22: val_accuracy improved from 0.89093 to 0.89525, saving model to best_model_fold_5.h5\n",
            "116/116 [==============================] - 0s 3ms/step - loss: 0.5790 - accuracy: 0.8994 - val_loss: 0.5818 - val_accuracy: 0.8952\n",
            "Epoch 23/30\n",
            "113/116 [============================>.] - ETA: 0s - loss: 0.5749 - accuracy: 0.8949\n",
            "Epoch 23: val_accuracy did not improve from 0.89525\n",
            "116/116 [==============================] - 0s 3ms/step - loss: 0.5816 - accuracy: 0.8929 - val_loss: 0.6268 - val_accuracy: 0.8737\n",
            "Epoch 24/30\n",
            "105/116 [==========================>...] - ETA: 0s - loss: 0.5759 - accuracy: 0.8938\n",
            "Epoch 24: val_accuracy improved from 0.89525 to 0.89741, saving model to best_model_fold_5.h5\n",
            "116/116 [==============================] - 0s 3ms/step - loss: 0.5751 - accuracy: 0.8937 - val_loss: 0.5658 - val_accuracy: 0.8974\n",
            "Epoch 25/30\n",
            "100/116 [========================>.....] - ETA: 0s - loss: 0.5664 - accuracy: 0.9019\n",
            "Epoch 25: val_accuracy did not improve from 0.89741\n",
            "116/116 [==============================] - 0s 3ms/step - loss: 0.5637 - accuracy: 0.9015 - val_loss: 0.5749 - val_accuracy: 0.8877\n",
            "Epoch 26/30\n",
            " 96/116 [=======================>......] - ETA: 0s - loss: 0.5532 - accuracy: 0.9017\n",
            "Epoch 26: val_accuracy did not improve from 0.89741\n",
            "116/116 [==============================] - 0s 3ms/step - loss: 0.5566 - accuracy: 0.9002 - val_loss: 0.5607 - val_accuracy: 0.8898\n",
            "Epoch 27/30\n",
            "116/116 [==============================] - ETA: 0s - loss: 0.5472 - accuracy: 0.8980\n",
            "Epoch 27: val_accuracy did not improve from 0.89741\n",
            "116/116 [==============================] - 0s 3ms/step - loss: 0.5472 - accuracy: 0.8980 - val_loss: 0.5353 - val_accuracy: 0.8974\n",
            "Epoch 28/30\n",
            "101/116 [=========================>....] - ETA: 0s - loss: 0.5397 - accuracy: 0.9072\n",
            "Epoch 28: val_accuracy improved from 0.89741 to 0.90173, saving model to best_model_fold_5.h5\n",
            "116/116 [==============================] - 0s 4ms/step - loss: 0.5400 - accuracy: 0.9058 - val_loss: 0.5611 - val_accuracy: 0.9017\n",
            "Epoch 29/30\n",
            "106/116 [==========================>...] - ETA: 0s - loss: 0.5329 - accuracy: 0.9033\n",
            "Epoch 29: val_accuracy did not improve from 0.90173\n",
            "116/116 [==============================] - 0s 4ms/step - loss: 0.5326 - accuracy: 0.9042 - val_loss: 0.5409 - val_accuracy: 0.8996\n",
            "Epoch 30/30\n",
            "112/116 [===========================>..] - ETA: 0s - loss: 0.5269 - accuracy: 0.9040\n",
            "Epoch 30: val_accuracy did not improve from 0.90173\n",
            "116/116 [==============================] - 1s 5ms/step - loss: 0.5260 - accuracy: 0.9047 - val_loss: 0.5684 - val_accuracy: 0.8866\n",
            "Fold 5 - Model loss: 0.5683774352073669\n",
            "Fold 5 - Model accuracy: 88.66%\n",
            "Average accuracy from 5-fold cross-validation: 89.62% +/- 1.04%\n",
            "Model loss on the test set: 0.5801187753677368\n",
            "Model accuracy on the test set: 86.96%\n"
          ]
        }
      ]
    },
    {
      "cell_type": "markdown",
      "metadata": {
        "id": "zP5MHqluRYz5"
      },
      "source": [
        "## Confusion Matrix"
      ]
    },
    {
      "cell_type": "code",
      "execution_count": null,
      "metadata": {
        "colab": {
          "base_uri": "https://localhost:8080/",
          "height": 467
        },
        "id": "un9FQAzgRbrF",
        "outputId": "a398adce-f1d3-43f4-f7f2-6b4f4cbdd88b"
      },
      "outputs": [
        {
          "output_type": "stream",
          "name": "stdout",
          "text": [
            "37/37 [==============================] - 0s 6ms/step\n"
          ]
        },
        {
          "output_type": "display_data",
          "data": {
            "text/plain": [
              "<Figure size 640x480 with 2 Axes>"
            ],
            "image/png": "[encoded data removed]"
          },
          "metadata": {}
        }
      ],
      "source": [
        "from sklearn.metrics import ConfusionMatrixDisplay\n",
        "from sklearn.metrics import confusion_matrix\n",
        "import matplotlib.pyplot as plt\n",
        "\n",
        "model.load_weights(\"best_model_fold_4.h5\")\n",
        "test_y_predict = np.argmax(model.predict(test_x), axis=-1)\n",
        "differences = np.sum(test_y_predict != test_y)\n",
        "# print((test_y_predict.shape[0] - differences) / test_y_predict.shape[0])\n",
        "# print(test_y_predict)\n",
        "\n",
        "labels = [\"FIST\", \"GRND\", \"HAMR\", \"LOGT\", \"PORT\", \"RELD\", \"SHIE\", \"SPEAR\", \"SPWB\"]\n",
        "cm = confusion_matrix(test_y, test_y_predict)\n",
        "cm_norm = cm.astype(\"float\") / cm.sum(axis=1)[:, np.newaxis]\n",
        "\n",
        "disp = ConfusionMatrixDisplay(confusion_matrix=cm_norm, display_labels=labels)\n",
        "\n",
        "disp.plot(cmap=plt.cm.Blues)\n",
        "plt.show()"
      ]
    },
    {
      "cell_type": "markdown",
      "metadata": {
        "id": "qHt0BXzQdh4C"
      },
      "source": [
        "## Export Test Data and Classification Results to TXT for reference"
      ]
    },
    {
      "cell_type": "code",
      "execution_count": null,
      "metadata": {
        "id": "Ok6oFeEM7i0Z"
      },
      "outputs": [],
      "source": [
        "# Store test data in a file\n",
        "string = \"\"\n",
        "for test_case in test_x.to_numpy():\n",
        "  for feature in test_case:\n",
        "    string = string + str(feature) + \"\\n\"\n",
        "with open(f\"test_x.txt\", \"w\") as f:\n",
        "  f.write(string)\n",
        "  f.close()"
      ]
    },
    {
      "cell_type": "code",
      "execution_count": null,
      "metadata": {
        "id": "uKmFytM8drjw"
      },
      "outputs": [],
      "source": [
        "# Store classification in a file\n",
        "string = \"\"\n",
        "for result in test_y_predict:\n",
        "  string = string + str(result) + \"\\n\"\n",
        "with open(f\"test_y_predict.txt\", \"w\") as f:\n",
        "  f.write(string)\n",
        "  f.close()"
      ]
    },
    {
      "cell_type": "markdown",
      "metadata": {
        "id": "YArLb9b9YLtE"
      },
      "source": [
        "## Model Inspection"
      ]
    },
    {
      "cell_type": "code",
      "execution_count": null,
      "metadata": {
        "id": "_Ak8AJiFjnGE"
      },
      "outputs": [],
      "source": [
        "model.load_weights(\"best_model_fold_4.h5\")\n",
        "# Get weights & biases (in numpy arrays)\n",
        "first_layer_weights = model.layers[0].get_weights()[0]\n",
        "first_layer_biases  = model.layers[0].get_weights()[1]\n",
        "second_layer_weights = model.layers[1].get_weights()[0]\n",
        "second_layer_biases  = model.layers[1].get_weights()[1]\n",
        "third_layer_weights = model.layers[2].get_weights()[0]\n",
        "third_layer_biases  = model.layers[2].get_weights()[1]"
      ]
    },
    {
      "cell_type": "code",
      "execution_count": null,
      "metadata": {
        "colab": {
          "base_uri": "https://localhost:8080/"
        },
        "id": "KSi0dNVbRTEL",
        "outputId": "15eb6b97-3f74-4718-cc0d-4034df9c4649"
      },
      "outputs": [
        {
          "output_type": "stream",
          "name": "stdout",
          "text": [
            "Model: \"sequential_32\"\n",
            "_________________________________________________________________\n",
            " Layer (type)                Output Shape              Param #   \n",
            "=================================================================\n",
            " dense_96 (Dense)            (None, 48)                3216      \n",
            "                                                                 \n",
            " dense_97 (Dense)            (None, 24)                1176      \n",
            "                                                                 \n",
            " dense_98 (Dense)            (None, 9)                 225       \n",
            "                                                                 \n",
            "=================================================================\n",
            "Total params: 4617 (18.04 KB)\n",
            "Trainable params: 4617 (18.04 KB)\n",
            "Non-trainable params: 0 (0.00 Byte)\n",
            "_________________________________________________________________\n",
            "First layer weights shape:\n",
            "(66, 48)\n",
            "First layer biases:\n",
            "(48,)\n",
            "Second layer weights shape:\n",
            "(48, 24)\n",
            "Second layer biases:\n",
            "(24,)\n",
            "Third layer weights shape:\n",
            "(24, 9)\n",
            "third layer biases:\n",
            "(9,)\n"
          ]
        }
      ],
      "source": [
        "# Visualise\n",
        "model.summary()\n",
        "print(\"First layer weights shape:\")\n",
        "print(first_layer_weights.shape)\n",
        "print(\"First layer biases:\")\n",
        "print(first_layer_biases.shape)\n",
        "print(\"Second layer weights shape:\")\n",
        "print(second_layer_weights.shape)\n",
        "print(\"Second layer biases:\")\n",
        "print(second_layer_biases.shape)\n",
        "print(\"Third layer weights shape:\")\n",
        "print(third_layer_weights.shape)\n",
        "print(\"third layer biases:\")\n",
        "print(third_layer_biases.shape)"
      ]
    },
    {
      "cell_type": "markdown",
      "metadata": {
        "id": "zuMGRzf-adto"
      },
      "source": [
        "##Print MLP weights and biases"
      ]
    },
    {
      "cell_type": "code",
      "execution_count": null,
      "metadata": {
        "colab": {
          "base_uri": "https://localhost:8080/"
        },
        "id": "KwS5MGIqlXy6",
        "outputId": "c8d7358f-aa3f-419a-c7f3-17acf208b32c"
      },
      "outputs": [
        {
          "output_type": "stream",
          "name": "stdout",
          "text": [
            "-0.021696068,-0.039597243,-0.06958756,-0.018217199,-0.06144576,0.11166909,0.08814053,-0.028973715,0.1361312,\n"
          ]
        }
      ],
      "source": [
        "# Store weights in a file\n",
        "layer1weight_string = \"\"\n",
        "for weight in first_layer_weights:\n",
        "  for number in weight:\n",
        "    layer1weight_string = layer1weight_string + str(number) + \", \"\n",
        "  layer1weight_string = layer1weight_string + \"\\n\"\n",
        "\n",
        "\n",
        "layer2weight_string = \"\"\n",
        "for weight in second_layer_weights:\n",
        "  for number in weight:\n",
        "    layer2weight_string = layer2weight_string + str(number) + \",\"\n",
        "  layer2weight_string = layer2weight_string + \"\\n\"\n",
        "\n",
        "\n",
        "layer3weight_string = \"\"\n",
        "for weight in third_layer_weights:\n",
        "  for number in weight:\n",
        "    layer3weight_string = layer3weight_string + str(number) + \",\"\n",
        "  layer3weight_string = layer3weight_string + \"\\n\"\n",
        "\n",
        "\n",
        "# Store biases in a file\n",
        "layer1bias_string = \"\"\n",
        "for bias in first_layer_biases:\n",
        "    layer1bias_string = layer1bias_string + str(bias) + \",\"\n",
        "\n",
        "\n",
        "layer2bias_string = \"\"\n",
        "for bias in second_layer_biases:\n",
        "    layer2bias_string = layer2bias_string + str(bias) + \",\"\n",
        "\n",
        "\n",
        "layer3bias_string = \"\"\n",
        "for bias in third_layer_biases:\n",
        "    layer3bias_string = layer3bias_string + str(bias) + \",\"\n",
        "print(layer3bias_string)"
      ]
    },
    {
      "cell_type": "markdown",
      "metadata": {
        "id": "spl68uH8dsf1"
      },
      "source": [
        "## Download to local"
      ]
    },
    {
      "cell_type": "code",
      "execution_count": null,
      "metadata": {
        "colab": {
          "base_uri": "https://localhost:8080/"
        },
        "id": "cbcFF_pTXaM-",
        "outputId": "c1923eac-91cc-4585-e959-74e0c073e7e4"
      },
      "outputs": [
        {
          "output_type": "execute_result",
          "data": {
            "text/plain": [
              "['.config',\n",
              " 'test_x.txt',\n",
              " 'hammer_raw.csv',\n",
              " 'best_model_fold_4.h5',\n",
              " 'web_damien.csv',\n",
              " 'portal_raw.csv',\n",
              " 'logout_raw.csv',\n",
              " 'shield_raw.csv',\n",
              " 'best_model_fold_5.h5',\n",
              " 'web_raw.csv',\n",
              " 'best_model_fold_2.h5',\n",
              " 'grenade_raw.csv',\n",
              " 'best_model_fold_3.h5',\n",
              " 'punch_raw.csv',\n",
              " 'reload_raw.csv',\n",
              " 'test_y_predict.txt',\n",
              " 'spear_raw.csv',\n",
              " 'best_model_fold_1.h5',\n",
              " 'sample_data']"
            ]
          },
          "metadata": {},
          "execution_count": 101
        }
      ],
      "source": [
        "os.listdir()"
      ]
    },
    {
      "cell_type": "code",
      "execution_count": null,
      "metadata": {
        "colab": {
          "base_uri": "https://localhost:8080/",
          "height": 17
        },
        "id": "gTWXM5588KqG",
        "outputId": "ea1c8df9-2530-4e9d-f3b6-ce6b26f4f84f"
      },
      "outputs": [
        {
          "output_type": "display_data",
          "data": {
            "text/plain": [
              "<IPython.core.display.Javascript object>"
            ],
            "application/javascript": [
              "\n",
              "    async function download(id, filename, size) {\n",
              "      if (!google.colab.kernel.accessAllowed) {\n",
              "        return;\n",
              "      }\n",
              "      const div = document.createElement('div');\n",
              "      const label = document.createElement('label');\n",
              "      label.textContent = `Downloading \"${filename}\": `;\n",
              "      div.appendChild(label);\n",
              "      const progress = document.createElement('progress');\n",
              "      progress.max = size;\n",
              "      div.appendChild(progress);\n",
              "      document.body.appendChild(div);\n",
              "\n",
              "      const buffers = [];\n",
              "      let downloaded = 0;\n",
              "\n",
              "      const channel = await google.colab.kernel.comms.open(id);\n",
              "      // Send a message to notify the kernel that we're ready.\n",
              "      channel.send({})\n",
              "\n",
              "      for await (const message of channel.messages) {\n",
              "        // Send a message to notify the kernel that we're ready.\n",
              "        channel.send({})\n",
              "        if (message.buffers) {\n",
              "          for (const buffer of message.buffers) {\n",
              "            buffers.push(buffer);\n",
              "            downloaded += buffer.byteLength;\n",
              "            progress.value = downloaded;\n",
              "          }\n",
              "        }\n",
              "      }\n",
              "      const blob = new Blob(buffers, {type: 'application/binary'});\n",
              "      const a = document.createElement('a');\n",
              "      a.href = window.URL.createObjectURL(blob);\n",
              "      a.download = filename;\n",
              "      div.appendChild(a);\n",
              "      a.click();\n",
              "      div.remove();\n",
              "    }\n",
              "  "
            ]
          },
          "metadata": {}
        },
        {
          "output_type": "display_data",
          "data": {
            "text/plain": [
              "<IPython.core.display.Javascript object>"
            ],
            "application/javascript": [
              "download(\"download_d38f65c4-218e-4373-9427-5bf8dbdb9059\", \"test_x.txt\", 718871)"
            ]
          },
          "metadata": {}
        },
        {
          "output_type": "display_data",
          "data": {
            "text/plain": [
              "<IPython.core.display.Javascript object>"
            ],
            "application/javascript": [
              "\n",
              "    async function download(id, filename, size) {\n",
              "      if (!google.colab.kernel.accessAllowed) {\n",
              "        return;\n",
              "      }\n",
              "      const div = document.createElement('div');\n",
              "      const label = document.createElement('label');\n",
              "      label.textContent = `Downloading \"${filename}\": `;\n",
              "      div.appendChild(label);\n",
              "      const progress = document.createElement('progress');\n",
              "      progress.max = size;\n",
              "      div.appendChild(progress);\n",
              "      document.body.appendChild(div);\n",
              "\n",
              "      const buffers = [];\n",
              "      let downloaded = 0;\n",
              "\n",
              "      const channel = await google.colab.kernel.comms.open(id);\n",
              "      // Send a message to notify the kernel that we're ready.\n",
              "      channel.send({})\n",
              "\n",
              "      for await (const message of channel.messages) {\n",
              "        // Send a message to notify the kernel that we're ready.\n",
              "        channel.send({})\n",
              "        if (message.buffers) {\n",
              "          for (const buffer of message.buffers) {\n",
              "            buffers.push(buffer);\n",
              "            downloaded += buffer.byteLength;\n",
              "            progress.value = downloaded;\n",
              "          }\n",
              "        }\n",
              "      }\n",
              "      const blob = new Blob(buffers, {type: 'application/binary'});\n",
              "      const a = document.createElement('a');\n",
              "      a.href = window.URL.createObjectURL(blob);\n",
              "      a.download = filename;\n",
              "      div.appendChild(a);\n",
              "      a.click();\n",
              "      div.remove();\n",
              "    }\n",
              "  "
            ]
          },
          "metadata": {}
        },
        {
          "output_type": "display_data",
          "data": {
            "text/plain": [
              "<IPython.core.display.Javascript object>"
            ],
            "application/javascript": [
              "download(\"download_b9628ff8-b876-4042-85a3-ba24bd984fa6\", \"test_y_predict.txt\", 2316)"
            ]
          },
          "metadata": {}
        }
      ],
      "source": [
        "files.download(\"test_x.txt\")\n",
        "files.download(\"test_y_predict.txt\")"
      ]
    },
    {
      "cell_type": "code",
      "execution_count": null,
      "metadata": {
        "colab": {
          "base_uri": "https://localhost:8080/",
          "height": 17
        },
        "id": "wELbKlssXikb",
        "outputId": "f636d004-06ca-450e-9a22-9be032f15be6"
      },
      "outputs": [
        {
          "output_type": "display_data",
          "data": {
            "text/plain": [
              "<IPython.core.display.Javascript object>"
            ],
            "application/javascript": [
              "\n",
              "    async function download(id, filename, size) {\n",
              "      if (!google.colab.kernel.accessAllowed) {\n",
              "        return;\n",
              "      }\n",
              "      const div = document.createElement('div');\n",
              "      const label = document.createElement('label');\n",
              "      label.textContent = `Downloading \"${filename}\": `;\n",
              "      div.appendChild(label);\n",
              "      const progress = document.createElement('progress');\n",
              "      progress.max = size;\n",
              "      div.appendChild(progress);\n",
              "      document.body.appendChild(div);\n",
              "\n",
              "      const buffers = [];\n",
              "      let downloaded = 0;\n",
              "\n",
              "      const channel = await google.colab.kernel.comms.open(id);\n",
              "      // Send a message to notify the kernel that we're ready.\n",
              "      channel.send({})\n",
              "\n",
              "      for await (const message of channel.messages) {\n",
              "        // Send a message to notify the kernel that we're ready.\n",
              "        channel.send({})\n",
              "        if (message.buffers) {\n",
              "          for (const buffer of message.buffers) {\n",
              "            buffers.push(buffer);\n",
              "            downloaded += buffer.byteLength;\n",
              "            progress.value = downloaded;\n",
              "          }\n",
              "        }\n",
              "      }\n",
              "      const blob = new Blob(buffers, {type: 'application/binary'});\n",
              "      const a = document.createElement('a');\n",
              "      a.href = window.URL.createObjectURL(blob);\n",
              "      a.download = filename;\n",
              "      div.appendChild(a);\n",
              "      a.click();\n",
              "      div.remove();\n",
              "    }\n",
              "  "
            ]
          },
          "metadata": {}
        },
        {
          "output_type": "display_data",
          "data": {
            "text/plain": [
              "<IPython.core.display.Javascript object>"
            ],
            "application/javascript": [
              "download(\"download_b0d485f8-3bbe-4c66-aa4c-9881f4b28bfe\", \"best_model_fold_1.h5\", 86384)"
            ]
          },
          "metadata": {}
        },
        {
          "output_type": "display_data",
          "data": {
            "text/plain": [
              "<IPython.core.display.Javascript object>"
            ],
            "application/javascript": [
              "\n",
              "    async function download(id, filename, size) {\n",
              "      if (!google.colab.kernel.accessAllowed) {\n",
              "        return;\n",
              "      }\n",
              "      const div = document.createElement('div');\n",
              "      const label = document.createElement('label');\n",
              "      label.textContent = `Downloading \"${filename}\": `;\n",
              "      div.appendChild(label);\n",
              "      const progress = document.createElement('progress');\n",
              "      progress.max = size;\n",
              "      div.appendChild(progress);\n",
              "      document.body.appendChild(div);\n",
              "\n",
              "      const buffers = [];\n",
              "      let downloaded = 0;\n",
              "\n",
              "      const channel = await google.colab.kernel.comms.open(id);\n",
              "      // Send a message to notify the kernel that we're ready.\n",
              "      channel.send({})\n",
              "\n",
              "      for await (const message of channel.messages) {\n",
              "        // Send a message to notify the kernel that we're ready.\n",
              "        channel.send({})\n",
              "        if (message.buffers) {\n",
              "          for (const buffer of message.buffers) {\n",
              "            buffers.push(buffer);\n",
              "            downloaded += buffer.byteLength;\n",
              "            progress.value = downloaded;\n",
              "          }\n",
              "        }\n",
              "      }\n",
              "      const blob = new Blob(buffers, {type: 'application/binary'});\n",
              "      const a = document.createElement('a');\n",
              "      a.href = window.URL.createObjectURL(blob);\n",
              "      a.download = filename;\n",
              "      div.appendChild(a);\n",
              "      a.click();\n",
              "      div.remove();\n",
              "    }\n",
              "  "
            ]
          },
          "metadata": {}
        },
        {
          "output_type": "display_data",
          "data": {
            "text/plain": [
              "<IPython.core.display.Javascript object>"
            ],
            "application/javascript": [
              "download(\"download_3d4d253c-388f-4594-854b-8a4893680da5\", \"best_model_fold_2.h5\", 86384)"
            ]
          },
          "metadata": {}
        },
        {
          "output_type": "display_data",
          "data": {
            "text/plain": [
              "<IPython.core.display.Javascript object>"
            ],
            "application/javascript": [
              "\n",
              "    async function download(id, filename, size) {\n",
              "      if (!google.colab.kernel.accessAllowed) {\n",
              "        return;\n",
              "      }\n",
              "      const div = document.createElement('div');\n",
              "      const label = document.createElement('label');\n",
              "      label.textContent = `Downloading \"${filename}\": `;\n",
              "      div.appendChild(label);\n",
              "      const progress = document.createElement('progress');\n",
              "      progress.max = size;\n",
              "      div.appendChild(progress);\n",
              "      document.body.appendChild(div);\n",
              "\n",
              "      const buffers = [];\n",
              "      let downloaded = 0;\n",
              "\n",
              "      const channel = await google.colab.kernel.comms.open(id);\n",
              "      // Send a message to notify the kernel that we're ready.\n",
              "      channel.send({})\n",
              "\n",
              "      for await (const message of channel.messages) {\n",
              "        // Send a message to notify the kernel that we're ready.\n",
              "        channel.send({})\n",
              "        if (message.buffers) {\n",
              "          for (const buffer of message.buffers) {\n",
              "            buffers.push(buffer);\n",
              "            downloaded += buffer.byteLength;\n",
              "            progress.value = downloaded;\n",
              "          }\n",
              "        }\n",
              "      }\n",
              "      const blob = new Blob(buffers, {type: 'application/binary'});\n",
              "      const a = document.createElement('a');\n",
              "      a.href = window.URL.createObjectURL(blob);\n",
              "      a.download = filename;\n",
              "      div.appendChild(a);\n",
              "      a.click();\n",
              "      div.remove();\n",
              "    }\n",
              "  "
            ]
          },
          "metadata": {}
        },
        {
          "output_type": "display_data",
          "data": {
            "text/plain": [
              "<IPython.core.display.Javascript object>"
            ],
            "application/javascript": [
              "download(\"download_3b53cf30-3334-4b6f-9bb7-f410f5520114\", \"best_model_fold_3.h5\", 86384)"
            ]
          },
          "metadata": {}
        },
        {
          "output_type": "display_data",
          "data": {
            "text/plain": [
              "<IPython.core.display.Javascript object>"
            ],
            "application/javascript": [
              "\n",
              "    async function download(id, filename, size) {\n",
              "      if (!google.colab.kernel.accessAllowed) {\n",
              "        return;\n",
              "      }\n",
              "      const div = document.createElement('div');\n",
              "      const label = document.createElement('label');\n",
              "      label.textContent = `Downloading \"${filename}\": `;\n",
              "      div.appendChild(label);\n",
              "      const progress = document.createElement('progress');\n",
              "      progress.max = size;\n",
              "      div.appendChild(progress);\n",
              "      document.body.appendChild(div);\n",
              "\n",
              "      const buffers = [];\n",
              "      let downloaded = 0;\n",
              "\n",
              "      const channel = await google.colab.kernel.comms.open(id);\n",
              "      // Send a message to notify the kernel that we're ready.\n",
              "      channel.send({})\n",
              "\n",
              "      for await (const message of channel.messages) {\n",
              "        // Send a message to notify the kernel that we're ready.\n",
              "        channel.send({})\n",
              "        if (message.buffers) {\n",
              "          for (const buffer of message.buffers) {\n",
              "            buffers.push(buffer);\n",
              "            downloaded += buffer.byteLength;\n",
              "            progress.value = downloaded;\n",
              "          }\n",
              "        }\n",
              "      }\n",
              "      const blob = new Blob(buffers, {type: 'application/binary'});\n",
              "      const a = document.createElement('a');\n",
              "      a.href = window.URL.createObjectURL(blob);\n",
              "      a.download = filename;\n",
              "      div.appendChild(a);\n",
              "      a.click();\n",
              "      div.remove();\n",
              "    }\n",
              "  "
            ]
          },
          "metadata": {}
        },
        {
          "output_type": "display_data",
          "data": {
            "text/plain": [
              "<IPython.core.display.Javascript object>"
            ],
            "application/javascript": [
              "download(\"download_002d74a1-650f-4b4a-83d7-d3ad527304de\", \"best_model_fold_4.h5\", 86384)"
            ]
          },
          "metadata": {}
        },
        {
          "output_type": "display_data",
          "data": {
            "text/plain": [
              "<IPython.core.display.Javascript object>"
            ],
            "application/javascript": [
              "\n",
              "    async function download(id, filename, size) {\n",
              "      if (!google.colab.kernel.accessAllowed) {\n",
              "        return;\n",
              "      }\n",
              "      const div = document.createElement('div');\n",
              "      const label = document.createElement('label');\n",
              "      label.textContent = `Downloading \"${filename}\": `;\n",
              "      div.appendChild(label);\n",
              "      const progress = document.createElement('progress');\n",
              "      progress.max = size;\n",
              "      div.appendChild(progress);\n",
              "      document.body.appendChild(div);\n",
              "\n",
              "      const buffers = [];\n",
              "      let downloaded = 0;\n",
              "\n",
              "      const channel = await google.colab.kernel.comms.open(id);\n",
              "      // Send a message to notify the kernel that we're ready.\n",
              "      channel.send({})\n",
              "\n",
              "      for await (const message of channel.messages) {\n",
              "        // Send a message to notify the kernel that we're ready.\n",
              "        channel.send({})\n",
              "        if (message.buffers) {\n",
              "          for (const buffer of message.buffers) {\n",
              "            buffers.push(buffer);\n",
              "            downloaded += buffer.byteLength;\n",
              "            progress.value = downloaded;\n",
              "          }\n",
              "        }\n",
              "      }\n",
              "      const blob = new Blob(buffers, {type: 'application/binary'});\n",
              "      const a = document.createElement('a');\n",
              "      a.href = window.URL.createObjectURL(blob);\n",
              "      a.download = filename;\n",
              "      div.appendChild(a);\n",
              "      a.click();\n",
              "      div.remove();\n",
              "    }\n",
              "  "
            ]
          },
          "metadata": {}
        },
        {
          "output_type": "display_data",
          "data": {
            "text/plain": [
              "<IPython.core.display.Javascript object>"
            ],
            "application/javascript": [
              "download(\"download_84f181e8-c3a3-4c24-a566-1375aa892389\", \"best_model_fold_5.h5\", 86384)"
            ]
          },
          "metadata": {}
        }
      ],
      "source": [
        "files.download(\"best_model_fold_1.h5\")\n",
        "files.download(\"best_model_fold_2.h5\")\n",
        "files.download(\"best_model_fold_3.h5\")\n",
        "files.download(\"best_model_fold_4.h5\")\n",
        "files.download(\"best_model_fold_5.h5\")"
      ]
    }
  ],
  "metadata": {
    "colab": {
      "provenance": []
    },
    "kernelspec": {
      "display_name": "Python 3",
      "name": "python3"
    },
    "language_info": {
      "name": "python"
    }
  },
  "nbformat": 4,
  "nbformat_minor": 0
}